{
 "cells": [
  {
   "cell_type": "code",
   "execution_count": 54,
   "outputs": [
    {
     "name": "stdout",
     "output_type": "stream",
     "text": [
      "632 ms ± 196 ms per loop (mean ± std. dev. of 7 runs, 1 loop each)\n"
     ]
    }
   ],
   "source": [
    "import pywikibot\n",
    "import json\n",
    "\n",
    "def find_p585(data, key=\"P585\"):\n",
    "    results = []\n",
    "\n",
    "    if isinstance(data, dict):\n",
    "        for k, v in data.items():\n",
    "            if k == key:\n",
    "                results.append(v)\n",
    "            elif isinstance(v, (dict, list)):\n",
    "                results.extend(find_p585(v, key))\n",
    "    elif isinstance(data, list):\n",
    "        for item in data:\n",
    "            results.extend(find_p585(item, key))\n",
    "    return results\n",
    "\n",
    "def get_witchcraft_investigation(item_id,save=False):\n",
    "    # Initialize the Pywikibot site\n",
    "    site = pywikibot.Site(\"wikidata\", \"wikidata\")\n",
    "    # Define the Wikidata item you want to retrieve (item_id)\n",
    "    item = pywikibot.ItemPage(site, item_id)\n",
    "    \n",
    "        # Check if the page is a redirect\n",
    "    if item.isRedirectPage():\n",
    "        # Get the target page of the redirect\n",
    "        item = item.getRedirectTarget()\n",
    "    else:\n",
    "        # Fetch the Wikidata item\n",
    "        item.get()\n",
    "    # Convert the item to a dictionary\n",
    "    item_json = item.toJSON()\n",
    "    \n",
    "    if save:\n",
    "        # Define the output JSON file name\n",
    "        output_filename = f\"wikidata_item_{item_id}.json\"\n",
    "        # Save the item data as JSON\n",
    "        with open(output_filename, \"w\", encoding=\"utf-8\") as json_file:\n",
    "            json.dump(item_json, json_file, ensure_ascii=False, indent=4)\n",
    "        print(f\"Data saved to {output_filename}\")\n",
    "        \n",
    "    p585 = find_p585(item_json)[0]\n",
    "    \n",
    "    return p585[0]['datavalue']['value']['time']\n",
    "%timeit get_witchcraft_investigation('Q43395478',save=False)"
   ],
   "metadata": {
    "collapsed": false,
    "ExecuteTime": {
     "end_time": "2023-11-09T15:08:17.485903Z",
     "start_time": "2023-11-09T15:08:12.477705600Z"
    }
   },
   "id": "c9382002ea8ff10f"
  },
  {
   "cell_type": "raw",
   "source": [
    "Erroes:\n",
    "\n",
    "IsRedirectPageError: Page [[wikidata:Q43395478]] is a redirect page."
   ],
   "metadata": {
    "collapsed": false
   },
   "id": "d27473198a900eb9"
  },
  {
   "cell_type": "code",
   "execution_count": null,
   "outputs": [],
   "source": [],
   "metadata": {
    "collapsed": false
   },
   "id": "1837604a30f9121a"
  }
 ],
 "metadata": {
  "kernelspec": {
   "display_name": "Python 3",
   "language": "python",
   "name": "python3"
  },
  "language_info": {
   "codemirror_mode": {
    "name": "ipython",
    "version": 2
   },
   "file_extension": ".py",
   "mimetype": "text/x-python",
   "name": "python",
   "nbconvert_exporter": "python",
   "pygments_lexer": "ipython2",
   "version": "2.7.6"
  }
 },
 "nbformat": 4,
 "nbformat_minor": 5
}
