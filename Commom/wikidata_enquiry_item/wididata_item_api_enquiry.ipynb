{
 "cells": [
  {
   "cell_type": "code",
   "execution_count": 55,
   "outputs": [
    {
     "name": "stdout",
     "output_type": "stream",
     "text": [
      "1\n",
      "more than 1\n",
      "2\n",
      "more than 1\n",
      "3\n",
      "more than 1\n",
      "4\n",
      "more than 1\n",
      "5\n",
      "more than 1\n",
      "6\n",
      "more than 1\n",
      "7\n",
      "more than 1\n",
      "8\n",
      "more than 1\n",
      "562 ms ± 10.6 ms per loop (mean ± std. dev. of 7 runs, 1 loop each)\n"
     ]
    }
   ],
   "source": [
    "import pywikibot\n",
    "import json\n",
    "import re\n",
    "\n",
    "COUNTER = 0\n",
    "\n",
    "def find_p585(data, key=\"P585\"):\n",
    "    results = []\n",
    "    \n",
    "\n",
    "    if isinstance(data, dict):\n",
    "        for k, v in data.items():\n",
    "            if k == key:\n",
    "                results.append(v)\n",
    "            elif isinstance(v, (dict, list)):\n",
    "                results.extend(find_p585(v, key))\n",
    "    elif isinstance(data, list):\n",
    "        for item in data:\n",
    "            results.extend(find_p585(item, key))\n",
    "\n",
    "    return results\n",
    "\n",
    "def get_witchcraft_investigation(item_id,save=False):\n",
    "    global COUNTER\n",
    "    COUNTER+=1\n",
    "    print(COUNTER)\n",
    "    \n",
    "    # Initialize the Pywikibot site\n",
    "    site = pywikibot.Site(\"wikidata\", \"wikidata\")\n",
    "    # Define the Wikidata item you want to retrieve (item_id)\n",
    "    item = pywikibot.ItemPage(site, item_id)\n",
    "    \n",
    "    # Check if the page is a redirect\n",
    "    if item.isRedirectPage():\n",
    "        item = item.getRedirectTarget()\n",
    "    else:\n",
    "        item.get()\n",
    "    \n",
    "    item_json = item.toJSON()\n",
    "    \n",
    "    if save:\n",
    "        # Define the output JSON file name\n",
    "        output_filename = f\"wikidata_item_{item_id}.json\"\n",
    "        # Save the item data as JSON\n",
    "        with open(output_filename, \"w\", encoding=\"utf-8\") as json_file:\n",
    "            json.dump(item_json, json_file, ensure_ascii=False, indent=4)\n",
    "        print(f\"Data saved to {output_filename}\")\n",
    "        \n",
    "    p585 = find_p585(item_json)\n",
    "    if len(p585)==1:\n",
    "        return p585[0][0]['datavalue']['value']['time']\n",
    "    elif len(p585)==0:\n",
    "        print(\"no time\")\n",
    "        return None\n",
    "    elif len(p585)>0:\n",
    "        print('more than 1')\n",
    "        return p585[0][0]['datavalue']['value']['time']\n",
    "\n",
    "\n",
    "def get_item_id(str):\n",
    "    pattern = r'Q[0-9]+'\n",
    "    matches = re.findall(pattern, str)\n",
    "    return matches[-1]\n",
    "    \n",
    "\n",
    "\n",
    "%timeit get_witchcraft_investigation('Q43395478',save=False)"
   ],
   "metadata": {
    "collapsed": false,
    "ExecuteTime": {
     "end_time": "2023-11-09T17:11:55.015065200Z",
     "start_time": "2023-11-09T17:11:50.414766600Z"
    }
   },
   "id": "c9382002ea8ff10f"
  },
  {
   "cell_type": "raw",
   "source": [
    "Erroes:\n",
    "\n",
    "IsRedirectPageError: Page [[wikidata:Q43395478]] is a redirect page."
   ],
   "metadata": {
    "collapsed": false
   },
   "id": "d27473198a900eb9"
  },
  {
   "cell_type": "code",
   "execution_count": null,
   "outputs": [],
   "source": [],
   "metadata": {
    "collapsed": false
   },
   "id": "1837604a30f9121a"
  }
 ],
 "metadata": {
  "kernelspec": {
   "display_name": "Python 3",
   "language": "python",
   "name": "python3"
  },
  "language_info": {
   "codemirror_mode": {
    "name": "ipython",
    "version": 2
   },
   "file_extension": ".py",
   "mimetype": "text/x-python",
   "name": "python",
   "nbconvert_exporter": "python",
   "pygments_lexer": "ipython2",
   "version": "2.7.6"
  }
 },
 "nbformat": 4,
 "nbformat_minor": 5
}
