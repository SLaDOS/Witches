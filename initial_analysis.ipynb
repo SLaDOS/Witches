{
 "cells": [
  {
   "cell_type": "code",
   "execution_count": 2,
   "metadata": {
    "collapsed": true,
    "ExecuteTime": {
     "start_time": "2023-10-19T12:37:46.864656Z",
     "end_time": "2023-10-19T12:37:46.878823Z"
    }
   },
   "outputs": [],
   "source": [
    "import pandas as pd"
   ]
  },
  {
   "cell_type": "code",
   "execution_count": 8,
   "outputs": [
    {
     "data": {
      "text/plain": "                              Wikidata Page                 Name   Residence  \\\n0  http://www.wikidata.org/entity/Q43390672  Katherine McFerries  Auchnerran   \n1  http://www.wikidata.org/entity/Q43394068        Agnes Wobster   Ludquharn   \n2  http://www.wikidata.org/entity/Q43390630        Isobel Cockie     Kintore   \n3  http://www.wikidata.org/entity/Q43395881        Marion Greiff         Ayr   \n4  http://www.wikidata.org/entity/Q43395165     Margaret Wallace      Holmes   \n\n   Longitude   Latitude  Gender     Manner of Death Place of Death  \n0  -2.961113  57.114020  Female  Capital Punishment       Aberdeen  \n1  -1.944752  57.496750  Female  Capital Punishment       Aberdeen  \n2  -2.346210  57.236000  Female  Capital Punishment       Aberdeen  \n3  -4.627778  55.463889  Female  Capital Punishment            Ayr  \n4  -4.414547  55.597887  Female  Capital Punishment            Ayr  ",
      "text/html": "<div>\n<style scoped>\n    .dataframe tbody tr th:only-of-type {\n        vertical-align: middle;\n    }\n\n    .dataframe tbody tr th {\n        vertical-align: top;\n    }\n\n    .dataframe thead th {\n        text-align: right;\n    }\n</style>\n<table border=\"1\" class=\"dataframe\">\n  <thead>\n    <tr style=\"text-align: right;\">\n      <th></th>\n      <th>Wikidata Page</th>\n      <th>Name</th>\n      <th>Residence</th>\n      <th>Longitude</th>\n      <th>Latitude</th>\n      <th>Gender</th>\n      <th>Manner of Death</th>\n      <th>Place of Death</th>\n    </tr>\n  </thead>\n  <tbody>\n    <tr>\n      <th>0</th>\n      <td>http://www.wikidata.org/entity/Q43390672</td>\n      <td>Katherine McFerries</td>\n      <td>Auchnerran</td>\n      <td>-2.961113</td>\n      <td>57.114020</td>\n      <td>Female</td>\n      <td>Capital Punishment</td>\n      <td>Aberdeen</td>\n    </tr>\n    <tr>\n      <th>1</th>\n      <td>http://www.wikidata.org/entity/Q43394068</td>\n      <td>Agnes Wobster</td>\n      <td>Ludquharn</td>\n      <td>-1.944752</td>\n      <td>57.496750</td>\n      <td>Female</td>\n      <td>Capital Punishment</td>\n      <td>Aberdeen</td>\n    </tr>\n    <tr>\n      <th>2</th>\n      <td>http://www.wikidata.org/entity/Q43390630</td>\n      <td>Isobel Cockie</td>\n      <td>Kintore</td>\n      <td>-2.346210</td>\n      <td>57.236000</td>\n      <td>Female</td>\n      <td>Capital Punishment</td>\n      <td>Aberdeen</td>\n    </tr>\n    <tr>\n      <th>3</th>\n      <td>http://www.wikidata.org/entity/Q43395881</td>\n      <td>Marion Greiff</td>\n      <td>Ayr</td>\n      <td>-4.627778</td>\n      <td>55.463889</td>\n      <td>Female</td>\n      <td>Capital Punishment</td>\n      <td>Ayr</td>\n    </tr>\n    <tr>\n      <th>4</th>\n      <td>http://www.wikidata.org/entity/Q43395165</td>\n      <td>Margaret Wallace</td>\n      <td>Holmes</td>\n      <td>-4.414547</td>\n      <td>55.597887</td>\n      <td>Female</td>\n      <td>Capital Punishment</td>\n      <td>Ayr</td>\n    </tr>\n  </tbody>\n</table>\n</div>"
     },
     "execution_count": 8,
     "metadata": {},
     "output_type": "execute_result"
    }
   ],
   "source": [
    "pd.read_csv('ArcGIS Online Files/Accused witch residence, gender, manner and place of death - Copy.csv').head()"
   ],
   "metadata": {
    "collapsed": false,
    "ExecuteTime": {
     "start_time": "2023-10-19T12:52:14.046979Z",
     "end_time": "2023-10-19T12:52:14.067172Z"
    }
   }
  }
 ],
 "metadata": {
  "kernelspec": {
   "display_name": "Python 3",
   "language": "python",
   "name": "python3"
  },
  "language_info": {
   "codemirror_mode": {
    "name": "ipython",
    "version": 2
   },
   "file_extension": ".py",
   "mimetype": "text/x-python",
   "name": "python",
   "nbconvert_exporter": "python",
   "pygments_lexer": "ipython2",
   "version": "2.7.6"
  }
 },
 "nbformat": 4,
 "nbformat_minor": 0
}
