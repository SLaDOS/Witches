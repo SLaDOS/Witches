{
 "cells": [
  {
   "cell_type": "code",
   "execution_count": 2,
   "outputs": [
    {
     "name": "stdout",
     "output_type": "stream",
     "text": [
      "Data saved to wikidata_item_Q43392396.json\n"
     ]
    }
   ],
   "source": [
    "import pywikibot\n",
    "import json\n",
    "\n",
    "item_id = \"Q43392396\"\n",
    "\n",
    "# Initialize the Pywikibot site\n",
    "site = pywikibot.Site(\"wikidata\", \"wikidata\")\n",
    "\n",
    "# Define the Wikidata item you want to retrieve (item_id)\n",
    "item = pywikibot.ItemPage(site, item_id)\n",
    "\n",
    "# Fetch the Wikidata item\n",
    "item.get()\n",
    "\n",
    "# Convert the item to a dictionary\n",
    "item_data = item.toJSON()\n",
    "\n",
    "# Define the output JSON file name\n",
    "output_filename = f\"wikidata_item_{item_id}.json\"\n",
    "\n",
    "# Save the item data as JSON\n",
    "with open(output_filename, \"w\", encoding=\"utf-8\") as json_file:\n",
    "    json.dump(item_data, json_file, ensure_ascii=False, indent=4)\n",
    "\n",
    "print(f\"Data saved to {output_filename}\")\n"
   ],
   "metadata": {
    "collapsed": false,
    "ExecuteTime": {
     "end_time": "2023-11-02T14:15:58.929484800Z",
     "start_time": "2023-11-02T14:15:58.608796900Z"
    }
   },
   "id": "c9382002ea8ff10f"
  },
  {
   "cell_type": "code",
   "execution_count": 1,
   "outputs": [],
   "source": [],
   "metadata": {
    "collapsed": false,
    "ExecuteTime": {
     "end_time": "2023-11-02T14:15:57.295715600Z",
     "start_time": "2023-11-02T14:15:57.257345200Z"
    }
   },
   "id": "d9add0f385953413"
  },
  {
   "cell_type": "code",
   "execution_count": null,
   "outputs": [],
   "source": [],
   "metadata": {
    "collapsed": false
   },
   "id": "e0883ee0b0e58287"
  }
 ],
 "metadata": {
  "kernelspec": {
   "display_name": "Python 3",
   "language": "python",
   "name": "python3"
  },
  "language_info": {
   "codemirror_mode": {
    "name": "ipython",
    "version": 2
   },
   "file_extension": ".py",
   "mimetype": "text/x-python",
   "name": "python",
   "nbconvert_exporter": "python",
   "pygments_lexer": "ipython2",
   "version": "2.7.6"
  }
 },
 "nbformat": 4,
 "nbformat_minor": 5
}
