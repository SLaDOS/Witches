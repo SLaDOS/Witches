{
 "cells": [
  {
   "cell_type": "markdown",
   "source": [
    "## Source of Data\n",
    "\n",
    "Data used in this notebook are provided from [Download zipfile of CSV files for ArcGIS Online](https://witches.is.ed.ac.uk/resources/ArcGIS%20Online%20Files.zip) in https://witches.is.ed.ac.uk/resources/.\n",
    "\n",
    "All data seems to be extracted from Wikidata and saved as CSV files. \n",
    "\n",
    "Although the original data in wikidata are saved in json-like format(e.g. [Witch Violet Mar](https://www.wikidata.org/wiki/Q43393985)), they can be converted into 2D list by using \"SELECT\" in queries."
   ],
   "metadata": {
    "collapsed": false
   },
   "id": "85d178480c7443ac"
  },
  {
   "cell_type": "markdown",
   "source": [
    "\n",
    "## Data Description\n",
    "\n",
    "First of all, read all .csv files and check structures:"
   ],
   "metadata": {
    "collapsed": false
   },
   "id": "b45a3bda586b1a4b"
  },
  {
   "cell_type": "code",
   "execution_count": 1,
   "id": "initial_id",
   "metadata": {
    "collapsed": true,
    "ExecuteTime": {
     "end_time": "2023-11-16T12:08:39.230067700Z",
     "start_time": "2023-11-16T12:08:39.126179200Z"
    }
   },
   "outputs": [],
   "source": [
    "import os\n",
    "import pandas as pd\n",
    "import seaborn as sns\n",
    "import matplotlib.pyplot as plt\n",
    "\n",
    "\n",
    "folder_path = '..\\ArcGIS Online Files'\n",
    "all_csv = []\n",
    "all_column_names = []\n",
    "for file_name in os.listdir(folder_path):\n",
    "    if file_name.endswith('.csv') and file_name.startswith('Accused'):\n",
    "        file_path = os.path.join(folder_path, file_name)\n",
    "        df = pd.read_csv(file_path)\n",
    "        first_row = df.iloc[0]\n",
    "        all_csv.append(df)\n",
    "        all_column_names.extend(df.columns)\n",
    "merged_df = pd.concat(all_csv, ignore_index=True)"
   ]
  },
  {
   "cell_type": "markdown",
   "source": [
    "Check what attribute they have:"
   ],
   "metadata": {
    "collapsed": false
   },
   "id": "ce284682964a3606"
  },
  {
   "cell_type": "code",
   "execution_count": 2,
   "outputs": [
    {
     "name": "stdout",
     "output_type": "stream",
     "text": [
      "{'Name', 'Residence', 'Social Classification', 'Wikidata Page', 'Occupation', 'Longitude', 'Manner of Death', 'Ethnicity', 'Gender', 'Place of Detainment', 'Place of Death', 'Wikipedia Page', 'Latitude'}\n",
      "===========================\n",
      "<class 'pandas.core.frame.DataFrame'>\n",
      "RangeIndex: 3185 entries, 0 to 3184\n",
      "Data columns (total 13 columns):\n",
      " #   Column                 Non-Null Count  Dtype  \n",
      "---  ------                 --------------  -----  \n",
      " 0   Wikidata Page          3185 non-null   object \n",
      " 1   Name                   3185 non-null   object \n",
      " 2   Residence              3185 non-null   object \n",
      " 3   Longitude              3185 non-null   float64\n",
      " 4   Latitude               3185 non-null   float64\n",
      " 5   Gender                 3168 non-null   object \n",
      " 6   Ethnicity              11 non-null     object \n",
      " 7   Manner of Death        274 non-null    object \n",
      " 8   Occupation             121 non-null    object \n",
      " 9   Place of Detainment    506 non-null    object \n",
      " 10  Social Classification  357 non-null    object \n",
      " 11  Wikipedia Page         25 non-null     object \n",
      " 12  Place of Death         148 non-null    object \n",
      "dtypes: float64(2), object(11)\n",
      "memory usage: 323.6+ KB\n"
     ]
    }
   ],
   "source": [
    "print(set(all_column_names))\n",
    "print('===========================')\n",
    "merged_df.info()"
   ],
   "metadata": {
    "collapsed": false,
    "ExecuteTime": {
     "end_time": "2023-11-16T12:08:39.278781900Z",
     "start_time": "2023-11-16T12:08:39.232068700Z"
    }
   },
   "id": "46619a38703b79c3"
  },
  {
   "cell_type": "markdown",
   "source": [
    "From above, in 3185 entries of data, all of these data have Wikidata Page, Name, Residence, Longitude and Latitude, but very few data have Ethnicity, Occupation and so on. However, these columns still worth analysis.\n",
    "\n",
    "Most of those are textual data representing Name, Gender, Manner of Death etc. And a few in time format"
   ],
   "metadata": {
    "collapsed": false
   },
   "id": "a71ce6970dfb07f1"
  },
  {
   "cell_type": "markdown",
   "source": [
    "## Fetch Extra Data\n",
    "\n",
    "### Use API\n",
    "\n",
    "By checking Wikidata page we found almost every witch page contains a significant event: Witchcraft Investigation, which has variously time point such as \"start time\",  \"end time\" and all of them have \"point of time\". This term indicates that might be not so accurate for the time but in the view of the ancient year and a long timescale that is enough for analysis."
   ],
   "metadata": {
    "collapsed": false
   },
   "id": "1c99e46b4ff1a17c"
  },
  {
   "cell_type": "code",
   "execution_count": 3,
   "outputs": [],
   "source": [
    "# Reference: https://itnext.io/extracting-data-from-wikidata-using-sparql-and-python-59e0037996f\n",
    "\n",
    "import sys\n",
    "import pandas as pd\n",
    "from typing import List, Dict\n",
    "from SPARQLWrapper import SPARQLWrapper, JSON\n",
    "\n",
    "class WikiDataQueryResults:\n",
    "    \"\"\"\n",
    "    A class that can be used to query data from Wikidata using SPARQL and return the results as a Pandas DataFrame or a list\n",
    "    of values for a specific key.\n",
    "    \"\"\"\n",
    "    def __init__(self, query: str):\n",
    "        \"\"\"\n",
    "        Initializes the WikiDataQueryResults object with a SPARQL query string.\n",
    "\n",
    "        :param query: A SPARQL query string.\n",
    "        \"\"\"\n",
    "        self.user_agent = \"WDQS-example Python/%s.%s\" % (sys.version_info[0], sys.version_info[1])\n",
    "        self.endpoint_url = \"https://query.wikidata.org/sparql\"\n",
    "        self.sparql = SPARQLWrapper(self.endpoint_url, agent=self.user_agent)\n",
    "        self.sparql.setQuery(query)\n",
    "        self.sparql.setReturnFormat(JSON)\n",
    "\n",
    "    def __transform2dicts(self, results: List[Dict]) -> List[Dict]:\n",
    "        \"\"\"\n",
    "        Helper function to transform SPARQL query results into a list of dictionaries.\n",
    "\n",
    "        :param results: A list of query results returned by SPARQLWrapper.\n",
    "        :return: A list of dictionaries, where each dictionary represents a result row and has keys corresponding to the\n",
    "        variables in the SPARQL SELECT clause.\n",
    "        \"\"\"\n",
    "        new_results = []\n",
    "        for result in results:\n",
    "            new_result = {}\n",
    "            for key in result:\n",
    "                new_result[key] = result[key]['value']\n",
    "            new_results.append(new_result)\n",
    "        return new_results\n",
    "\n",
    "    def _load(self) -> List[Dict]:\n",
    "        \"\"\"\n",
    "        Helper function that loads the data from Wikidata using the SPARQLWrapper library, and transforms the results into\n",
    "        a list of dictionaries.\n",
    "\n",
    "        :return: A list of dictionaries, where each dictionary represents a result row and has keys corresponding to the\n",
    "        variables in the SPARQL SELECT clause.\n",
    "        \"\"\"\n",
    "        results = self.sparql.queryAndConvert()['results']['bindings']\n",
    "        results = self.__transform2dicts(results)\n",
    "        return results\n",
    "\n",
    "    def load_as_dataframe(self) -> pd.DataFrame:\n",
    "        \"\"\"\n",
    "        Executes the SPARQL query and returns the results as a Pandas DataFrame.\n",
    "\n",
    "        :return: A Pandas DataFrame representing the query results.\n",
    "        \"\"\"\n",
    "        results = self._load()\n",
    "        return pd.DataFrame.from_dict(results)"
   ],
   "metadata": {
    "collapsed": false,
    "ExecuteTime": {
     "end_time": "2023-11-16T12:08:39.304788700Z",
     "start_time": "2023-11-16T12:08:39.269781100Z"
    }
   },
   "id": "38adfb248d67572e"
  },
  {
   "cell_type": "markdown",
   "source": [
    "Then I can use Wikidata API to request data list from the site.\n",
    "\n",
    "I learnt SPARQL to form the query:"
   ],
   "metadata": {
    "collapsed": false
   },
   "id": "75f4aa15209c369c"
  },
  {
   "cell_type": "code",
   "execution_count": 4,
   "outputs": [
    {
     "data": {
      "text/plain": "                                          item         point_of_time\n0     http://www.wikidata.org/entity/Q43396006  1603-08-02T00:00:00Z\n1     http://www.wikidata.org/entity/Q43396091  1602-01-17T00:00:00Z\n2     http://www.wikidata.org/entity/Q43395927  1591-05-18T00:00:00Z\n3     http://www.wikidata.org/entity/Q43395911  1591-01-05T00:00:00Z\n4     http://www.wikidata.org/entity/Q43396072  1586-05-19T00:00:00Z\n...                                        ...                   ...\n3192  http://www.wikidata.org/entity/Q43395296  1615-08-19T00:00:00Z\n3193  http://www.wikidata.org/entity/Q43395287  1613-12-11T00:00:00Z\n3194  http://www.wikidata.org/entity/Q43395204  1611-06-11T00:00:00Z\n3195  http://www.wikidata.org/entity/Q43396079  1610-08-27T00:00:00Z\n3196  http://www.wikidata.org/entity/Q43396007  1604-07-13T00:00:00Z\n\n[3197 rows x 2 columns]",
      "text/html": "<div>\n<style scoped>\n    .dataframe tbody tr th:only-of-type {\n        vertical-align: middle;\n    }\n\n    .dataframe tbody tr th {\n        vertical-align: top;\n    }\n\n    .dataframe thead th {\n        text-align: right;\n    }\n</style>\n<table border=\"1\" class=\"dataframe\">\n  <thead>\n    <tr style=\"text-align: right;\">\n      <th></th>\n      <th>item</th>\n      <th>point_of_time</th>\n    </tr>\n  </thead>\n  <tbody>\n    <tr>\n      <th>0</th>\n      <td>http://www.wikidata.org/entity/Q43396006</td>\n      <td>1603-08-02T00:00:00Z</td>\n    </tr>\n    <tr>\n      <th>1</th>\n      <td>http://www.wikidata.org/entity/Q43396091</td>\n      <td>1602-01-17T00:00:00Z</td>\n    </tr>\n    <tr>\n      <th>2</th>\n      <td>http://www.wikidata.org/entity/Q43395927</td>\n      <td>1591-05-18T00:00:00Z</td>\n    </tr>\n    <tr>\n      <th>3</th>\n      <td>http://www.wikidata.org/entity/Q43395911</td>\n      <td>1591-01-05T00:00:00Z</td>\n    </tr>\n    <tr>\n      <th>4</th>\n      <td>http://www.wikidata.org/entity/Q43396072</td>\n      <td>1586-05-19T00:00:00Z</td>\n    </tr>\n    <tr>\n      <th>...</th>\n      <td>...</td>\n      <td>...</td>\n    </tr>\n    <tr>\n      <th>3192</th>\n      <td>http://www.wikidata.org/entity/Q43395296</td>\n      <td>1615-08-19T00:00:00Z</td>\n    </tr>\n    <tr>\n      <th>3193</th>\n      <td>http://www.wikidata.org/entity/Q43395287</td>\n      <td>1613-12-11T00:00:00Z</td>\n    </tr>\n    <tr>\n      <th>3194</th>\n      <td>http://www.wikidata.org/entity/Q43395204</td>\n      <td>1611-06-11T00:00:00Z</td>\n    </tr>\n    <tr>\n      <th>3195</th>\n      <td>http://www.wikidata.org/entity/Q43396079</td>\n      <td>1610-08-27T00:00:00Z</td>\n    </tr>\n    <tr>\n      <th>3196</th>\n      <td>http://www.wikidata.org/entity/Q43396007</td>\n      <td>1604-07-13T00:00:00Z</td>\n    </tr>\n  </tbody>\n</table>\n<p>3197 rows × 2 columns</p>\n</div>"
     },
     "execution_count": 4,
     "metadata": {},
     "output_type": "execute_result"
    }
   ],
   "source": [
    "query =\"\"\"\n",
    "SELECT DISTINCT ?item ?point_of_time \n",
    "WHERE {\n",
    "  ?item p:P4478 ?statement0.\n",
    "  ?statement0 (ps:P4478) _:anyValueP4478.    \n",
    "  ?item p:P793 ?statement1.\n",
    "  ?statement1 (ps:P793) wd:Q66458810.\n",
    "  ?statement1 pq:P585 ?point_of_time.\n",
    "  SERVICE wikibase:label { bd:serviceParam wikibase:language \"[AUTO_LANGUAGE]\". }\n",
    "}\n",
    "\"\"\"\n",
    "\n",
    "data_extracter = WikiDataQueryResults(query)\n",
    "extra_df = data_extracter.load_as_dataframe()\n",
    "\n",
    "extra_df"
   ],
   "metadata": {
    "collapsed": false,
    "ExecuteTime": {
     "end_time": "2023-11-16T12:08:40.572355Z",
     "start_time": "2023-11-16T12:08:39.293787700Z"
    }
   },
   "id": "639d936825271985"
  },
  {
   "cell_type": "markdown",
   "source": [
    "There are 3197 rows of data, close to those data merged from CSV files.\n",
    "\n",
    "This can be also merged in to the previous merged dataframe by using address as the key. "
   ],
   "metadata": {
    "collapsed": false
   },
   "id": "fa0fb36823e5e132"
  },
  {
   "cell_type": "code",
   "execution_count": 5,
   "outputs": [
    {
     "data": {
      "text/plain": "                              Wikidata Page                         Name  \\\n0  http://www.wikidata.org/entity/Q43390211              Jonnet McKennan   \n1  http://www.wikidata.org/entity/Q43390291              Jonet Braidheid   \n2  http://www.wikidata.org/entity/Q43390319  Wife of Soirle McAllexander   \n3  http://www.wikidata.org/entity/Q43390500             Christian Watson   \n4  http://www.wikidata.org/entity/Q43390507               Janet Conochie   \n\n       Residence  Longitude   Latitude  Gender Ethnicity Manner of Death  \\\n0      Balmurrie  -4.805504  54.959995  Female       NaN             NaN   \n1     Balmakeith  -3.852752  57.580476  Female       NaN             NaN   \n2   Isle of Bute  -5.056360  55.835690  Female       NaN             NaN   \n3  North Berwick  -2.717000  56.058000  Female       NaN             NaN   \n4        Bo'ness  -3.608911  56.016811  Female       NaN             NaN   \n\n  Occupation Place of Detainment Social Classification Wikipedia Page  \\\n0        NaN                 NaN                   NaN            NaN   \n1        NaN                 NaN                   NaN            NaN   \n2        NaN                 NaN                   NaN            NaN   \n3        NaN                 NaN                   NaN            NaN   \n4        NaN                 NaN                   NaN            NaN   \n\n  Place of Death         point_of_time  \n0            NaN  1644-09-28T00:00:00Z  \n1            NaN  1662-04-24T00:00:00Z  \n2            NaN  1662-02-08T00:00:00Z  \n3            NaN  1663-10-26T00:00:00Z  \n4            NaN  1670-01-01T00:00:00Z  ",
      "text/html": "<div>\n<style scoped>\n    .dataframe tbody tr th:only-of-type {\n        vertical-align: middle;\n    }\n\n    .dataframe tbody tr th {\n        vertical-align: top;\n    }\n\n    .dataframe thead th {\n        text-align: right;\n    }\n</style>\n<table border=\"1\" class=\"dataframe\">\n  <thead>\n    <tr style=\"text-align: right;\">\n      <th></th>\n      <th>Wikidata Page</th>\n      <th>Name</th>\n      <th>Residence</th>\n      <th>Longitude</th>\n      <th>Latitude</th>\n      <th>Gender</th>\n      <th>Ethnicity</th>\n      <th>Manner of Death</th>\n      <th>Occupation</th>\n      <th>Place of Detainment</th>\n      <th>Social Classification</th>\n      <th>Wikipedia Page</th>\n      <th>Place of Death</th>\n      <th>point_of_time</th>\n    </tr>\n  </thead>\n  <tbody>\n    <tr>\n      <th>0</th>\n      <td>http://www.wikidata.org/entity/Q43390211</td>\n      <td>Jonnet McKennan</td>\n      <td>Balmurrie</td>\n      <td>-4.805504</td>\n      <td>54.959995</td>\n      <td>Female</td>\n      <td>NaN</td>\n      <td>NaN</td>\n      <td>NaN</td>\n      <td>NaN</td>\n      <td>NaN</td>\n      <td>NaN</td>\n      <td>NaN</td>\n      <td>1644-09-28T00:00:00Z</td>\n    </tr>\n    <tr>\n      <th>1</th>\n      <td>http://www.wikidata.org/entity/Q43390291</td>\n      <td>Jonet Braidheid</td>\n      <td>Balmakeith</td>\n      <td>-3.852752</td>\n      <td>57.580476</td>\n      <td>Female</td>\n      <td>NaN</td>\n      <td>NaN</td>\n      <td>NaN</td>\n      <td>NaN</td>\n      <td>NaN</td>\n      <td>NaN</td>\n      <td>NaN</td>\n      <td>1662-04-24T00:00:00Z</td>\n    </tr>\n    <tr>\n      <th>2</th>\n      <td>http://www.wikidata.org/entity/Q43390319</td>\n      <td>Wife of Soirle McAllexander</td>\n      <td>Isle of Bute</td>\n      <td>-5.056360</td>\n      <td>55.835690</td>\n      <td>Female</td>\n      <td>NaN</td>\n      <td>NaN</td>\n      <td>NaN</td>\n      <td>NaN</td>\n      <td>NaN</td>\n      <td>NaN</td>\n      <td>NaN</td>\n      <td>1662-02-08T00:00:00Z</td>\n    </tr>\n    <tr>\n      <th>3</th>\n      <td>http://www.wikidata.org/entity/Q43390500</td>\n      <td>Christian Watson</td>\n      <td>North Berwick</td>\n      <td>-2.717000</td>\n      <td>56.058000</td>\n      <td>Female</td>\n      <td>NaN</td>\n      <td>NaN</td>\n      <td>NaN</td>\n      <td>NaN</td>\n      <td>NaN</td>\n      <td>NaN</td>\n      <td>NaN</td>\n      <td>1663-10-26T00:00:00Z</td>\n    </tr>\n    <tr>\n      <th>4</th>\n      <td>http://www.wikidata.org/entity/Q43390507</td>\n      <td>Janet Conochie</td>\n      <td>Bo'ness</td>\n      <td>-3.608911</td>\n      <td>56.016811</td>\n      <td>Female</td>\n      <td>NaN</td>\n      <td>NaN</td>\n      <td>NaN</td>\n      <td>NaN</td>\n      <td>NaN</td>\n      <td>NaN</td>\n      <td>NaN</td>\n      <td>1670-01-01T00:00:00Z</td>\n    </tr>\n  </tbody>\n</table>\n</div>"
     },
     "execution_count": 5,
     "metadata": {},
     "output_type": "execute_result"
    }
   ],
   "source": [
    "extended_df = merged_df.merge(extra_df,left_on='Wikidata Page',right_on='item').drop(['item'], axis=1)\n",
    "extended_df.head()"
   ],
   "metadata": {
    "collapsed": false,
    "ExecuteTime": {
     "end_time": "2023-11-16T12:08:40.737389100Z",
     "start_time": "2023-11-16T12:08:40.560709800Z"
    }
   },
   "id": "e05308738eacb1ed"
  },
  {
   "cell_type": "markdown",
   "source": [
    "Thus, we have the extended dataframe. The size of this is slightly smaller than the previous two. (From 3197 and 3185 rows to 3154 rows.) This can be ignored at this point.\n",
    "\n",
    "### Convert Time\n",
    "\n",
    "For time data, Pandas use timestamp. However, the limitations are '1677-09-21 00:12:43.145224193' and '2262-04-11 23:47:16.854775807'.\n",
    "\n",
    "Unfortunately, witches' time was a little out of bound, so we have to use Period to represent the time: "
   ],
   "metadata": {
    "collapsed": false
   },
   "id": "844a6b7206500e56"
  },
  {
   "cell_type": "code",
   "execution_count": 6,
   "outputs": [
    {
     "data": {
      "text/plain": "0       1644-09-28\n1       1662-04-24\n2       1662-02-08\n3       1663-10-26\n4       1670-01-01\n           ...    \n3149    1669-11-21\n3150    1650-06-29\n3151    1628-12-05\n3152    1697-03-29\n3153    1697-01-29\nName: point_of_time, Length: 3154, dtype: period[D]"
     },
     "execution_count": 6,
     "metadata": {},
     "output_type": "execute_result"
    }
   ],
   "source": [
    "def conv(x):\n",
    "    if type(x) is str:\n",
    "        t = x[:10]\n",
    "        return pd.Period(year=int(t[0:4]),\n",
    "                         month=int(t[5:7]),\n",
    "                         day=int(t[8:10]),\n",
    "                         freq=\"D\")\n",
    "    elif type(x) is pd.Period:\n",
    "        # print('already Period')\n",
    "        return x\n",
    "    else:\n",
    "        raise TypeError('x need to be string')\n",
    "    \n",
    "extended_df['point_of_time'].apply(conv)"
   ],
   "metadata": {
    "collapsed": false,
    "ExecuteTime": {
     "end_time": "2023-11-16T12:08:41.129103500Z",
     "start_time": "2023-11-16T12:08:40.624363200Z"
    }
   },
   "id": "aeeae8c8ed97012f"
  },
  {
   "cell_type": "code",
   "execution_count": 7,
   "outputs": [],
   "source": [
    "df = extended_df.copy()\n",
    "df['point_of_time']= pd.PeriodIndex(extended_df['point_of_time'].apply(conv))\n",
    "df['year']= df['point_of_time'].apply(lambda x:x.year)"
   ],
   "metadata": {
    "collapsed": false,
    "ExecuteTime": {
     "end_time": "2023-11-16T12:08:41.399742Z",
     "start_time": "2023-11-16T12:08:41.020007700Z"
    }
   },
   "id": "fd75494e99fd979a"
  },
  {
   "cell_type": "markdown",
   "source": [
    "Nicely converted, year is enough for macro analysis."
   ],
   "metadata": {
    "collapsed": false
   },
   "id": "ae3eee3ebaf5c251"
  },
  {
   "cell_type": "markdown",
   "source": [
    "## Detailed Insight\n",
    "\n",
    "A deeper exploration of the data\n",
    "\n",
    "Point of time, Occupation, Social Classification, Place of Detainment, Place of Death and Gender will be explored."
   ],
   "metadata": {
    "collapsed": false
   },
   "id": "ce699eede2389948"
  },
  {
   "cell_type": "markdown",
   "source": [
    "### Time\n",
    "\n",
    "Check the latest and the earliest year accuse happened:"
   ],
   "metadata": {
    "collapsed": false
   },
   "id": "b803bed6c1ae79a9"
  },
  {
   "cell_type": "code",
   "execution_count": 8,
   "outputs": [
    {
     "name": "stdout",
     "output_type": "stream",
     "text": [
      "1727-06-01\n",
      "1562-02-21\n"
     ]
    }
   ],
   "source": [
    "print(df['point_of_time'].max())\n",
    "print(df['point_of_time'].min())"
   ],
   "metadata": {
    "collapsed": false,
    "ExecuteTime": {
     "end_time": "2023-11-16T12:08:41.422767700Z",
     "start_time": "2023-11-16T12:08:41.400921400Z"
    }
   },
   "id": "4191c8a569c2ae29"
  },
  {
   "cell_type": "code",
   "execution_count": 9,
   "outputs": [
    {
     "data": {
      "text/plain": "<Figure size 1296x576 with 1 Axes>",
      "image/png": "[encoded data removed]"
     },
     "metadata": {},
     "output_type": "display_data"
    }
   ],
   "source": [
    "sns.set(rc={'figure.figsize':(11.7,8.27)})\n",
    "sns.set(font_scale=1.8)\n",
    "\n",
    "plt.figure(figsize=(18,8))\n",
    "ax = sns.histplot(data=df['year'],binwidth=5)\n",
    "plt.show()"
   ],
   "metadata": {
    "collapsed": false,
    "ExecuteTime": {
     "end_time": "2023-11-16T12:08:41.934301200Z",
     "start_time": "2023-11-16T12:08:41.415766300Z"
    }
   },
   "id": "15dad94aba6c4c7d"
  },
  {
   "cell_type": "markdown",
   "source": [
    "In every 5 years we can see around 1650 the hunt reached the peak. \n",
    "\n",
    "Hard to say there is a trend, but it seemed to be a rise and fall progress."
   ],
   "metadata": {
    "collapsed": false
   },
   "id": "4fb81685fabd11a3"
  },
  {
   "cell_type": "markdown",
   "source": [
    "### Gender\n",
    "\n",
    "Check the value counts first:"
   ],
   "metadata": {
    "collapsed": false
   },
   "id": "693b475f87d787f7"
  },
  {
   "cell_type": "code",
   "execution_count": 10,
   "outputs": [
    {
     "data": {
      "text/plain": "Female    2688\nMale       449\nName: Gender, dtype: int64"
     },
     "execution_count": 10,
     "metadata": {},
     "output_type": "execute_result"
    }
   ],
   "source": [
    "df['Gender'].value_counts()"
   ],
   "metadata": {
    "collapsed": false,
    "ExecuteTime": {
     "end_time": "2023-11-16T12:08:41.935301Z",
     "start_time": "2023-11-16T12:08:41.892292400Z"
    }
   },
   "id": "5262e5c0a52d764a"
  },
  {
   "cell_type": "code",
   "execution_count": 11,
   "outputs": [
    {
     "data": {
      "text/plain": "<Figure size 576x576 with 1 Axes>",
      "image/png": "[encoded data removed]"
     },
     "metadata": {},
     "output_type": "display_data"
    }
   ],
   "source": [
    "plt.figure(figsize=(8,8))\n",
    "ax = sns.histplot(data=df['Gender'])\n",
    "plt.show()"
   ],
   "metadata": {
    "collapsed": false,
    "ExecuteTime": {
     "end_time": "2023-11-16T12:08:42.119702400Z",
     "start_time": "2023-11-16T12:08:41.904294300Z"
    }
   },
   "id": "3d6c26ee351eef9b"
  },
  {
   "cell_type": "code",
   "execution_count": 12,
   "outputs": [
    {
     "data": {
      "text/plain": "Female    0.85687\nMale      0.14313\nName: Gender, dtype: float64"
     },
     "execution_count": 12,
     "metadata": {},
     "output_type": "execute_result"
    }
   ],
   "source": [
    "df['Gender'].value_counts(normalize=True)"
   ],
   "metadata": {
    "collapsed": false,
    "ExecuteTime": {
     "end_time": "2023-11-16T12:08:42.161763100Z",
     "start_time": "2023-11-16T12:08:42.109695400Z"
    }
   },
   "id": "c33101bafd3807a7"
  },
  {
   "cell_type": "markdown",
   "source": [
    "Surprisingly, up to 14.3% accused witches were male. Isn't witch a word to describe female? What is wizard then? "
   ],
   "metadata": {
    "collapsed": false
   },
   "id": "5f76172e07467a06"
  },
  {
   "cell_type": "markdown",
   "source": [
    "### Occupation"
   ],
   "metadata": {
    "collapsed": false
   },
   "id": "93e230577aeb5e6e"
  },
  {
   "cell_type": "code",
   "execution_count": 13,
   "outputs": [],
   "source": [
    "data = df['Occupation'].value_counts()"
   ],
   "metadata": {
    "collapsed": false,
    "ExecuteTime": {
     "end_time": "2023-11-16T12:08:42.162762400Z",
     "start_time": "2023-11-16T12:08:42.124698600Z"
    }
   },
   "id": "fb989a8f1a61d764"
  },
  {
   "cell_type": "markdown",
   "source": [
    "In those recorded, the majorities were vagrant and domestic worker."
   ],
   "metadata": {
    "collapsed": false
   },
   "id": "6999c8166e46518b"
  },
  {
   "cell_type": "code",
   "execution_count": 14,
   "outputs": [
    {
     "data": {
      "text/plain": "([<matplotlib.patches.Wedge at 0x18a71a93d00>,\n  <matplotlib.patches.Wedge at 0x18a71aa6460>,\n  <matplotlib.patches.Wedge at 0x18a71aa6b80>,\n  <matplotlib.patches.Wedge at 0x18a71ab62e0>,\n  <matplotlib.patches.Wedge at 0x18a71ab6a00>,\n  <matplotlib.patches.Wedge at 0x18a71ac6160>,\n  <matplotlib.patches.Wedge at 0x18a71ac6880>,\n  <matplotlib.patches.Wedge at 0x18a71ac6fa0>,\n  <matplotlib.patches.Wedge at 0x18a71b56700>,\n  <matplotlib.patches.Wedge at 0x18a71b56e20>,\n  <matplotlib.patches.Wedge at 0x18a71a93cd0>,\n  <matplotlib.patches.Wedge at 0x18a71b67cd0>,\n  <matplotlib.patches.Wedge at 0x18a71b76430>,\n  <matplotlib.patches.Wedge at 0x18a71b76b50>,\n  <matplotlib.patches.Wedge at 0x18a71b862b0>,\n  <matplotlib.patches.Wedge at 0x18a71b869d0>,\n  <matplotlib.patches.Wedge at 0x18a71c19130>,\n  <matplotlib.patches.Wedge at 0x18a71c19880>,\n  <matplotlib.patches.Wedge at 0x18a71c19fa0>,\n  <matplotlib.patches.Wedge at 0x18a71c25700>,\n  <matplotlib.patches.Wedge at 0x18a71c25e20>,\n  <matplotlib.patches.Wedge at 0x18a71c31580>,\n  <matplotlib.patches.Wedge at 0x18a71c31ca0>,\n  <matplotlib.patches.Wedge at 0x18a71c3d400>,\n  <matplotlib.patches.Wedge at 0x18a71c3db20>,\n  <matplotlib.patches.Wedge at 0x18a71c4b280>,\n  <matplotlib.patches.Wedge at 0x18a71c4b9a0>,\n  <matplotlib.patches.Wedge at 0x18a71cd7100>,\n  <matplotlib.patches.Wedge at 0x18a71cd7820>,\n  <matplotlib.patches.Wedge at 0x18a71cd7f40>,\n  <matplotlib.patches.Wedge at 0x18a71ce46a0>],\n [Text(0.708301456776909, 0.8416109827751231, 'Vagrant'),\n  Text(-0.8864925113266104, 0.6512534279079379, 'Domestic Worker'),\n  Text(-0.9910657116031256, -0.4772722025056461, 'Midwife'),\n  Text(-0.6156469959769342, -0.9115803729483084, 'Weaver'),\n  Text(-0.3564464041953762, -1.040646895414668, ''),\n  Text(-0.24477289377441164, -1.072420733888198, ''),\n  Text(-0.13037238073378196, -1.0922467863728444, ''),\n  Text(-0.014519395492040576, -1.0999041718052285, ''),\n  Text(0.10149534961180075, -1.095307579635592, ''),\n  Text(0.2163793400801623, -1.0785082202683824, ''),\n  Text(0.3288526590965459, -1.0496932545296893, ''),\n  Text(0.43766224701504547, -1.0091837085178008, ''),\n  Text(0.5415958616354629, -0.9574308970674285, ''),\n  Text(0.639495583733284, -0.895011395673612, ''),\n  Text(0.7083016365332496, -0.8416108314918008, ''),\n  Text(0.7517308606359842, -0.8030571045495348, ''),\n  Text(0.7930648757873903, -0.7622651131937835, ''),\n  Text(0.8321884766618994, -0.7193485520324256, ''),\n  Text(0.8689926187556158, -0.6744270372310537, ''),\n  Text(0.9033747223129411, -0.627625773121226, ''),\n  Text(0.935238958234776, -0.5790752032335101, ''),\n  Text(0.9644965151714399, -0.528910646727922, ''),\n  Text(0.9910658470558513, -0.4772719212351258, ''),\n  Text(1.014872900387071, -0.424302953159573, ''),\n  Text(1.0358513206307074, -0.37015137653076435, ''),\n  Text(1.0539426371609288, -0.31496812152068177, ''),\n  Text(1.0690964262285974, -0.2589069937742926, ''),\n  Text(1.0812704515013187, -0.20212424572557972, ''),\n  Text(1.0904307817836865, -0.14477814109394593, ''),\n  Text(1.0965518855896201, -0.08702851377478957, ''),\n  Text(1.0996167023032026, -0.029036322353732713, '')],\n [Text(0.38634624915104127, 0.45906053605915803, '27.73'),\n  Text(-0.4835413698145147, 0.35522914249523885, '24.37'),\n  Text(-0.5405812972380685, -0.26033029227580695, '10.08'),\n  Text(-0.33580745235105497, -0.4972256579718045, ''),\n  Text(-0.19442531137929608, -0.5676255793170915, ''),\n  Text(-0.13351248751331543, -0.584956763939017, ''),\n  Text(-0.07111220767297198, -0.5957709743851878, ''),\n  Text(-0.007919670268385767, -0.5999477300755791, ''),\n  Text(0.055361099788254944, -0.5974404979830501, ''),\n  Text(0.11802509458917942, -0.5882772110554813, ''),\n  Text(0.179374177689025, -0.5725599570161941, ''),\n  Text(0.23872486200820658, -0.5504638410097095, ''),\n  Text(0.2954159245284343, -0.5222350347640519, ''),\n  Text(0.3488157729454276, -0.4881880340037883, ''),\n  Text(0.3863463471999543, -0.45906045354098224, ''),\n  Text(0.410035014892355, -0.43803114793610987, ''),\n  Text(0.43258084133857644, -0.4157809708329728, ''),\n  Text(0.4539209872701269, -0.39237193747223215, ''),\n  Text(0.4739959738666995, -0.3678692930351201, ''),\n  Text(0.49274984853433146, -0.342341330793396, ''),\n  Text(0.5101303408553323, -0.3158592017637328, ''),\n  Text(0.5260890082753308, -0.2884967163970483, ''),\n  Text(0.5405813711213734, -0.26033013885552314, ''),\n  Text(0.5535670365747658, -0.23143797445067615, ''),\n  Text(0.565009811253113, -0.20190075083496234, ''),\n  Text(0.5748778020877793, -0.17180079355673547, ''),\n  Text(0.5831435052155984, -0.14122199660415957, ''),\n  Text(0.5897838826370829, -0.11024958857758892, ''),\n  Text(0.5947804264274653, -0.07896989514215232, ''),\n  Text(0.5981192103216109, -0.04747009842261248, ''),\n  Text(0.5997909285290196, -0.015837994011126934, '')])"
     },
     "execution_count": 14,
     "metadata": {},
     "output_type": "execute_result"
    },
    {
     "data": {
      "text/plain": "<Figure size 576x576 with 1 Axes>",
      "image/png": "[encoded data removed]"
     },
     "metadata": {},
     "output_type": "display_data"
    }
   ],
   "source": [
    "plt.figure(figsize=(8,8))\n",
    "\n",
    "omit_num = 27\n",
    "labels = list(data.index)[:-omit_num]+['']*omit_num\n",
    "plt.pie(data,labels=labels,autopct=lambda x:('%.2f' % x) if x > 10 else '')"
   ],
   "metadata": {
    "collapsed": false,
    "ExecuteTime": {
     "end_time": "2023-11-16T12:08:42.549455400Z",
     "start_time": "2023-11-16T12:08:42.142704100Z"
    }
   },
   "id": "9fd07d1458ae8b8c"
  },
  {
   "cell_type": "markdown",
   "source": [
    "### Social Classification"
   ],
   "metadata": {
    "collapsed": false
   },
   "id": "1de74c82f11bc92b"
  },
  {
   "cell_type": "code",
   "execution_count": 15,
   "outputs": [
    {
     "name": "stdout",
     "output_type": "stream",
     "text": [
      "353\n"
     ]
    },
    {
     "data": {
      "text/plain": "Middling        232\nWorking Poor     72\nPauper           19\nUpper Class      16\nVagrant           6\nLaird             4\nNobility          4\nName: Social Classification, dtype: int64"
     },
     "execution_count": 15,
     "metadata": {},
     "output_type": "execute_result"
    }
   ],
   "source": [
    "data = df['Social Classification'].value_counts()\n",
    "print(data.sum())\n",
    "data"
   ],
   "metadata": {
    "collapsed": false,
    "ExecuteTime": {
     "end_time": "2023-11-16T12:08:42.638075900Z",
     "start_time": "2023-11-16T12:08:42.538496500Z"
    }
   },
   "id": "2659ff72ff09f760"
  },
  {
   "cell_type": "code",
   "execution_count": 16,
   "outputs": [
    {
     "name": "stdout",
     "output_type": "stream",
     "text": [
      "['Middling', 'Working Poor', 'Pauper', 'Upper Class', '', '', '']\n"
     ]
    },
    {
     "data": {
      "text/plain": "([<matplotlib.patches.Wedge at 0x18a71cb83a0>,\n  <matplotlib.patches.Wedge at 0x18a71cb8a60>,\n  <matplotlib.patches.Wedge at 0x18a71cc31c0>,\n  <matplotlib.patches.Wedge at 0x18a71cc38e0>,\n  <matplotlib.patches.Wedge at 0x18a71c50040>,\n  <matplotlib.patches.Wedge at 0x18a71c50760>,\n  <matplotlib.patches.Wedge at 0x18a71c50e80>],\n [Text(-0.5215018936100936, 0.9685224700341685, 'Middling'),\n  Text(0.06359751500776907, -1.0981599865615377, 'Working Poor'),\n  Text(0.8391427829619745, -0.7112238675711274, 'Pauper'),\n  Text(1.0167352132994136, -0.41982080229187774, 'Upper Class'),\n  Text(1.0789830408513472, -0.21399905970629873, ''),\n  Text(1.093732974646856, -0.11725263395821794, ''),\n  Text(1.0993030792126928, -0.039150223926462946, '')],\n [Text(-0.2844555783327783, 0.5282849836550009, '65.72'),\n  Text(0.034689553640601306, -0.5989963563062932, '20.40'),\n  Text(0.45771424525198606, -0.3879402914024331, ''),\n  Text(0.5545828436178619, -0.22899316488647875, ''),\n  Text(0.5885362041007348, -0.1167267598397993, ''),\n  Text(0.5965816225346487, -0.06395598215902797, ''),\n  Text(0.5996198613887415, -0.021354667596252513, '')])"
     },
     "execution_count": 16,
     "metadata": {},
     "output_type": "execute_result"
    },
    {
     "data": {
      "text/plain": "<Figure size 842.4x595.44 with 1 Axes>",
      "image/png": "[encoded data removed]"
     },
     "metadata": {},
     "output_type": "display_data"
    }
   ],
   "source": [
    "omit_num = 3\n",
    "labels = list(data.index)[:-omit_num]+['']*omit_num\n",
    "print(labels)\n",
    "plt.pie(data,labels=labels,autopct=lambda x:('%.2f' % x) if x > 10 else '')"
   ],
   "metadata": {
    "collapsed": false,
    "ExecuteTime": {
     "end_time": "2023-11-16T12:08:42.780207300Z",
     "start_time": "2023-11-16T12:08:42.555461500Z"
    }
   },
   "id": "a0a866ad4720b84e"
  },
  {
   "cell_type": "markdown",
   "source": [
    "Unexpectedly, lower classes were not the biggest party. Even Upper Class can be noticed, while middling takes the majority. And we have 4 lairds!"
   ],
   "metadata": {
    "collapsed": false
   },
   "id": "67baec10b0ea03d4"
  },
  {
   "cell_type": "markdown",
   "source": [
    "## Reflect and Hypotheses"
   ],
   "metadata": {
    "collapsed": false
   },
   "id": "7746216bbd84239d"
  },
  {
   "cell_type": "markdown",
   "source": [
    "### Place of Detainment\n",
    "\n",
    "Were there places that were stricter to witches? "
   ],
   "metadata": {
    "collapsed": false
   },
   "id": "8b4fd89ab593c71e"
  },
  {
   "cell_type": "code",
   "execution_count": 17,
   "outputs": [
    {
     "name": "stdout",
     "output_type": "stream",
     "text": [
      "501\n"
     ]
    },
    {
     "data": {
      "text/plain": "Edinburgh        49\nHaddington       46\nInverkeithing    20\nDysart           18\nRenfrew          17\n                 ..\nBurntisland       1\nBalliemore        1\nAuchtermuchty     1\nAberlady          1\nDundee            1\nName: Place of Detainment, Length: 89, dtype: int64"
     },
     "execution_count": 17,
     "metadata": {},
     "output_type": "execute_result"
    }
   ],
   "source": [
    "data = df['Place of Detainment'].value_counts()\n",
    "print(data.sum())\n",
    "data"
   ],
   "metadata": {
    "collapsed": false,
    "ExecuteTime": {
     "end_time": "2023-11-16T12:08:42.784208300Z",
     "start_time": "2023-11-16T12:08:42.731719600Z"
    }
   },
   "id": "f8a28397ed51aef4"
  },
  {
   "cell_type": "markdown",
   "source": [
    "There are 89 cities in total, which is not good to be visualized. Edinburgh got the most witches (49 out of 501).\n",
    "\n",
    "The rest places only record few: only 10 places caught more than 10 people. This is absolutely under sample for analysis.\n",
    "\n",
    "However, we can still check the relationship other attributes:"
   ],
   "metadata": {
    "collapsed": false
   },
   "id": "a252ac52132ca075"
  },
  {
   "cell_type": "code",
   "execution_count": 18,
   "outputs": [
    {
     "name": "stdout",
     "output_type": "stream",
     "text": [
      "<class 'pandas.core.frame.DataFrame'>\n",
      "Int64Index: 501 entries, 2318 to 3153\n",
      "Data columns (total 15 columns):\n",
      " #   Column                 Non-Null Count  Dtype    \n",
      "---  ------                 --------------  -----    \n",
      " 0   Wikidata Page          501 non-null    object   \n",
      " 1   Name                   501 non-null    object   \n",
      " 2   Residence              501 non-null    object   \n",
      " 3   Longitude              501 non-null    float64  \n",
      " 4   Latitude               501 non-null    float64  \n",
      " 5   Gender                 497 non-null    object   \n",
      " 6   Ethnicity              0 non-null      object   \n",
      " 7   Manner of Death        77 non-null     object   \n",
      " 8   Occupation             28 non-null     object   \n",
      " 9   Place of Detainment    501 non-null    object   \n",
      " 10  Social Classification  102 non-null    object   \n",
      " 11  Wikipedia Page         9 non-null      object   \n",
      " 12  Place of Death         41 non-null     object   \n",
      " 13  point_of_time          501 non-null    period[D]\n",
      " 14  year                   501 non-null    int64    \n",
      "dtypes: float64(2), int64(1), object(11), period[D](1)\n",
      "memory usage: 62.6+ KB\n"
     ]
    }
   ],
   "source": [
    "df1 = df[df['Place of Detainment'].notnull()]\n",
    "df1.info()"
   ],
   "metadata": {
    "collapsed": false,
    "ExecuteTime": {
     "end_time": "2023-11-16T12:08:42.917240700Z",
     "start_time": "2023-11-16T12:08:42.764203600Z"
    }
   },
   "id": "903db710b86750e6"
  },
  {
   "cell_type": "markdown",
   "source": [
    "For those record with place of detainment, they all have residence information. \n",
    "\n",
    "Check the difference then:"
   ],
   "metadata": {
    "collapsed": false
   },
   "id": "52f0377da84da473"
  },
  {
   "cell_type": "code",
   "execution_count": 33,
   "outputs": [
    {
     "data": {
      "text/plain": "                   Name    Residence Place of Detainment\n2414  Agnes Williamsone  Sammuelston           Edinburgh\n2443      Jonet Carfrae  Sammuelston          Haddington\n2445  Christiane Deanes  Sammuelston          Haddington\n2447   Elspeth Tailyeor  Sammuelston          Haddington\n2462     Mareon Quheitt  Sammuelston          Haddington\n3094        James Welch  Sammuelston           Edinburgh\n3095        James Welch  Sammuelston          Haddington",
      "text/html": "<div>\n<style scoped>\n    .dataframe tbody tr th:only-of-type {\n        vertical-align: middle;\n    }\n\n    .dataframe tbody tr th {\n        vertical-align: top;\n    }\n\n    .dataframe thead th {\n        text-align: right;\n    }\n</style>\n<table border=\"1\" class=\"dataframe\">\n  <thead>\n    <tr style=\"text-align: right;\">\n      <th></th>\n      <th>Name</th>\n      <th>Residence</th>\n      <th>Place of Detainment</th>\n    </tr>\n  </thead>\n  <tbody>\n    <tr>\n      <th>2414</th>\n      <td>Agnes Williamsone</td>\n      <td>Sammuelston</td>\n      <td>Edinburgh</td>\n    </tr>\n    <tr>\n      <th>2443</th>\n      <td>Jonet Carfrae</td>\n      <td>Sammuelston</td>\n      <td>Haddington</td>\n    </tr>\n    <tr>\n      <th>2445</th>\n      <td>Christiane Deanes</td>\n      <td>Sammuelston</td>\n      <td>Haddington</td>\n    </tr>\n    <tr>\n      <th>2447</th>\n      <td>Elspeth Tailyeor</td>\n      <td>Sammuelston</td>\n      <td>Haddington</td>\n    </tr>\n    <tr>\n      <th>2462</th>\n      <td>Mareon Quheitt</td>\n      <td>Sammuelston</td>\n      <td>Haddington</td>\n    </tr>\n    <tr>\n      <th>3094</th>\n      <td>James Welch</td>\n      <td>Sammuelston</td>\n      <td>Edinburgh</td>\n    </tr>\n    <tr>\n      <th>3095</th>\n      <td>James Welch</td>\n      <td>Sammuelston</td>\n      <td>Haddington</td>\n    </tr>\n  </tbody>\n</table>\n</div>"
     },
     "execution_count": 33,
     "metadata": {},
     "output_type": "execute_result"
    }
   ],
   "source": [
    "df11 = df1.loc[:,['Name','Residence','Place of Detainment']]\n",
    "df12 = df11[df11['Residence']!=df11['Place of Detainment']]\n",
    "df11[df11['Residence']=='Sammuelston']"
   ],
   "metadata": {
    "collapsed": false,
    "ExecuteTime": {
     "end_time": "2023-11-16T12:32:38.970055700Z",
     "start_time": "2023-11-16T12:32:38.873459400Z"
    }
   },
   "id": "6b22bddbe6933244"
  },
  {
   "cell_type": "markdown",
   "source": [
    "Almost half of the witches was detained at a different place from their residence. Why was that? Because the parish choropleth? How far between these two places?\n",
    "\n",
    "To do in the future: Fetch the Lon & Lat of the Residence and the Place of Detainment, calculate the distance and compare with locations of parish choropleth."
   ],
   "metadata": {
    "collapsed": false
   },
   "id": "f2e21dbd8ba988c"
  },
  {
   "cell_type": "markdown",
   "source": [
    "### Male Witches\n",
    "\n",
    "Why there were male witches? What was their condition? Were they influenced by others, like family?\n",
    "\n",
    "Well let's select them anyway:"
   ],
   "metadata": {
    "collapsed": false
   },
   "id": "3a44c94b805366a1"
  },
  {
   "cell_type": "code",
   "execution_count": 20,
   "outputs": [
    {
     "data": {
      "text/plain": "                                 Wikidata Page                     Name  \\\n1874  http://www.wikidata.org/entity/Q43390341                John Gely   \n1875  http://www.wikidata.org/entity/Q43393520  Ninian Dowie Vic Finley   \n1876  http://www.wikidata.org/entity/Q43393699             Ninian Coell   \n1877  http://www.wikidata.org/entity/Q43393706           George Rattray   \n1878  http://www.wikidata.org/entity/Q43393762           Thomas Humbell   \n...                                        ...                      ...   \n3095  http://www.wikidata.org/entity/Q43394991              James Welch   \n3117  http://www.wikidata.org/entity/Q43392128              Jon Stewart   \n3120  http://www.wikidata.org/entity/Q43392651       Alexander Drummond   \n3121  http://www.wikidata.org/entity/Q43394040             Thomas Leyis   \n3136  http://www.wikidata.org/entity/Q43393166           Robert Erskine   \n\n         Residence  Longitude   Latitude Gender Ethnicity     Manner of Death  \\\n1874       Barmore  -5.204270  55.992580   Male       NaN                 NaN   \n1875     Inverness  -4.225833  57.483889   Male       NaN                 NaN   \n1876     Inverness  -4.225833  57.483889   Male       NaN                 NaN   \n1877     Inverness  -4.225833  57.483889   Male       NaN                 NaN   \n1878       Brechin  -2.655278  56.730000   Male       NaN                 NaN   \n...            ...        ...        ...    ...       ...                 ...   \n3095   Sammuelston  -2.825545  55.927420   Male       NaN                 NaN   \n3117   Pollokshaws  -4.290000  55.821800   Male       NaN  Capital Punishment   \n3120  Auchterarder  -3.706140  56.293200   Male       NaN  Capital Punishment   \n3121      Aberdeen  -2.100000  57.150000   Male       NaN  Capital Punishment   \n3136  Wester Logie  -3.454210  56.600150   Male       NaN   CapitalPunishment   \n\n     Occupation Place of Detainment Social Classification Wikipedia Page  \\\n1874        NaN                 NaN                   NaN            NaN   \n1875        NaN                 NaN                   NaN            NaN   \n1876        NaN                 NaN                   NaN            NaN   \n1877        NaN                 NaN                   NaN            NaN   \n1878        NaN                 NaN                   NaN            NaN   \n...         ...                 ...                   ...            ...   \n3095        NaN          Haddington                Pauper            NaN   \n3117        NaN             Paisley              Middling            NaN   \n3120        NaN           Edinburgh              Middling            NaN   \n3121        NaN            Aberdeen              Middling            NaN   \n3136        NaN                 NaN           Upper Class            NaN   \n\n     Place of Death point_of_time  year  \n1874            NaN    1662-02-01  1662  \n1875            NaN    1662-07-13  1662  \n1876            NaN    1662-07-13  1662  \n1877            NaN    1704-12-29  1704  \n1878            NaN    1650-01-01  1650  \n...             ...           ...   ...  \n3095            NaN    1662-01-26  1662  \n3117  Gallows Green    1677-01-13  1677  \n3120   Mercat Cross    1624-06-10  1624  \n3121            NaN    1597-02-12  1597  \n3136   Mercat Cross    1613-11-09  1613  \n\n[449 rows x 15 columns]",
      "text/html": "<div>\n<style scoped>\n    .dataframe tbody tr th:only-of-type {\n        vertical-align: middle;\n    }\n\n    .dataframe tbody tr th {\n        vertical-align: top;\n    }\n\n    .dataframe thead th {\n        text-align: right;\n    }\n</style>\n<table border=\"1\" class=\"dataframe\">\n  <thead>\n    <tr style=\"text-align: right;\">\n      <th></th>\n      <th>Wikidata Page</th>\n      <th>Name</th>\n      <th>Residence</th>\n      <th>Longitude</th>\n      <th>Latitude</th>\n      <th>Gender</th>\n      <th>Ethnicity</th>\n      <th>Manner of Death</th>\n      <th>Occupation</th>\n      <th>Place of Detainment</th>\n      <th>Social Classification</th>\n      <th>Wikipedia Page</th>\n      <th>Place of Death</th>\n      <th>point_of_time</th>\n      <th>year</th>\n    </tr>\n  </thead>\n  <tbody>\n    <tr>\n      <th>1874</th>\n      <td>http://www.wikidata.org/entity/Q43390341</td>\n      <td>John Gely</td>\n      <td>Barmore</td>\n      <td>-5.204270</td>\n      <td>55.992580</td>\n      <td>Male</td>\n      <td>NaN</td>\n      <td>NaN</td>\n      <td>NaN</td>\n      <td>NaN</td>\n      <td>NaN</td>\n      <td>NaN</td>\n      <td>NaN</td>\n      <td>1662-02-01</td>\n      <td>1662</td>\n    </tr>\n    <tr>\n      <th>1875</th>\n      <td>http://www.wikidata.org/entity/Q43393520</td>\n      <td>Ninian Dowie Vic Finley</td>\n      <td>Inverness</td>\n      <td>-4.225833</td>\n      <td>57.483889</td>\n      <td>Male</td>\n      <td>NaN</td>\n      <td>NaN</td>\n      <td>NaN</td>\n      <td>NaN</td>\n      <td>NaN</td>\n      <td>NaN</td>\n      <td>NaN</td>\n      <td>1662-07-13</td>\n      <td>1662</td>\n    </tr>\n    <tr>\n      <th>1876</th>\n      <td>http://www.wikidata.org/entity/Q43393699</td>\n      <td>Ninian Coell</td>\n      <td>Inverness</td>\n      <td>-4.225833</td>\n      <td>57.483889</td>\n      <td>Male</td>\n      <td>NaN</td>\n      <td>NaN</td>\n      <td>NaN</td>\n      <td>NaN</td>\n      <td>NaN</td>\n      <td>NaN</td>\n      <td>NaN</td>\n      <td>1662-07-13</td>\n      <td>1662</td>\n    </tr>\n    <tr>\n      <th>1877</th>\n      <td>http://www.wikidata.org/entity/Q43393706</td>\n      <td>George Rattray</td>\n      <td>Inverness</td>\n      <td>-4.225833</td>\n      <td>57.483889</td>\n      <td>Male</td>\n      <td>NaN</td>\n      <td>NaN</td>\n      <td>NaN</td>\n      <td>NaN</td>\n      <td>NaN</td>\n      <td>NaN</td>\n      <td>NaN</td>\n      <td>1704-12-29</td>\n      <td>1704</td>\n    </tr>\n    <tr>\n      <th>1878</th>\n      <td>http://www.wikidata.org/entity/Q43393762</td>\n      <td>Thomas Humbell</td>\n      <td>Brechin</td>\n      <td>-2.655278</td>\n      <td>56.730000</td>\n      <td>Male</td>\n      <td>NaN</td>\n      <td>NaN</td>\n      <td>NaN</td>\n      <td>NaN</td>\n      <td>NaN</td>\n      <td>NaN</td>\n      <td>NaN</td>\n      <td>1650-01-01</td>\n      <td>1650</td>\n    </tr>\n    <tr>\n      <th>...</th>\n      <td>...</td>\n      <td>...</td>\n      <td>...</td>\n      <td>...</td>\n      <td>...</td>\n      <td>...</td>\n      <td>...</td>\n      <td>...</td>\n      <td>...</td>\n      <td>...</td>\n      <td>...</td>\n      <td>...</td>\n      <td>...</td>\n      <td>...</td>\n      <td>...</td>\n    </tr>\n    <tr>\n      <th>3095</th>\n      <td>http://www.wikidata.org/entity/Q43394991</td>\n      <td>James Welch</td>\n      <td>Sammuelston</td>\n      <td>-2.825545</td>\n      <td>55.927420</td>\n      <td>Male</td>\n      <td>NaN</td>\n      <td>NaN</td>\n      <td>NaN</td>\n      <td>Haddington</td>\n      <td>Pauper</td>\n      <td>NaN</td>\n      <td>NaN</td>\n      <td>1662-01-26</td>\n      <td>1662</td>\n    </tr>\n    <tr>\n      <th>3117</th>\n      <td>http://www.wikidata.org/entity/Q43392128</td>\n      <td>Jon Stewart</td>\n      <td>Pollokshaws</td>\n      <td>-4.290000</td>\n      <td>55.821800</td>\n      <td>Male</td>\n      <td>NaN</td>\n      <td>Capital Punishment</td>\n      <td>NaN</td>\n      <td>Paisley</td>\n      <td>Middling</td>\n      <td>NaN</td>\n      <td>Gallows Green</td>\n      <td>1677-01-13</td>\n      <td>1677</td>\n    </tr>\n    <tr>\n      <th>3120</th>\n      <td>http://www.wikidata.org/entity/Q43392651</td>\n      <td>Alexander Drummond</td>\n      <td>Auchterarder</td>\n      <td>-3.706140</td>\n      <td>56.293200</td>\n      <td>Male</td>\n      <td>NaN</td>\n      <td>Capital Punishment</td>\n      <td>NaN</td>\n      <td>Edinburgh</td>\n      <td>Middling</td>\n      <td>NaN</td>\n      <td>Mercat Cross</td>\n      <td>1624-06-10</td>\n      <td>1624</td>\n    </tr>\n    <tr>\n      <th>3121</th>\n      <td>http://www.wikidata.org/entity/Q43394040</td>\n      <td>Thomas Leyis</td>\n      <td>Aberdeen</td>\n      <td>-2.100000</td>\n      <td>57.150000</td>\n      <td>Male</td>\n      <td>NaN</td>\n      <td>Capital Punishment</td>\n      <td>NaN</td>\n      <td>Aberdeen</td>\n      <td>Middling</td>\n      <td>NaN</td>\n      <td>NaN</td>\n      <td>1597-02-12</td>\n      <td>1597</td>\n    </tr>\n    <tr>\n      <th>3136</th>\n      <td>http://www.wikidata.org/entity/Q43393166</td>\n      <td>Robert Erskine</td>\n      <td>Wester Logie</td>\n      <td>-3.454210</td>\n      <td>56.600150</td>\n      <td>Male</td>\n      <td>NaN</td>\n      <td>CapitalPunishment</td>\n      <td>NaN</td>\n      <td>NaN</td>\n      <td>Upper Class</td>\n      <td>NaN</td>\n      <td>Mercat Cross</td>\n      <td>1613-11-09</td>\n      <td>1613</td>\n    </tr>\n  </tbody>\n</table>\n<p>449 rows × 15 columns</p>\n</div>"
     },
     "execution_count": 20,
     "metadata": {},
     "output_type": "execute_result"
    }
   ],
   "source": [
    "df2 = df[df['Gender']=='Male']\n",
    "df2"
   ],
   "metadata": {
    "collapsed": false,
    "ExecuteTime": {
     "end_time": "2023-11-16T12:08:42.922242200Z",
     "start_time": "2023-11-16T12:08:42.826218Z"
    }
   },
   "id": "da87fcb8da077256"
  },
  {
   "cell_type": "markdown",
   "source": [
    "#### Then check the males residence with whole group: "
   ],
   "metadata": {
    "collapsed": false
   },
   "id": "c8fb2eae83b0ebb"
  },
  {
   "cell_type": "code",
   "execution_count": 21,
   "outputs": [
    {
     "data": {
      "text/plain": "            Residence  Residence\nHaddington        222       38.0\nAberdeen           64       10.0\nDalkeith           47        7.0\nEdinburgh          46        7.0\nDumfries           46        7.0\n...               ...        ...\nHaining             1        NaN\nElliot              1        NaN\nBilbster            1        NaN\nFindo Gask          1        NaN\nBearsden            1        NaN\n\n[724 rows x 2 columns]",
      "text/html": "<div>\n<style scoped>\n    .dataframe tbody tr th:only-of-type {\n        vertical-align: middle;\n    }\n\n    .dataframe tbody tr th {\n        vertical-align: top;\n    }\n\n    .dataframe thead th {\n        text-align: right;\n    }\n</style>\n<table border=\"1\" class=\"dataframe\">\n  <thead>\n    <tr style=\"text-align: right;\">\n      <th></th>\n      <th>Residence</th>\n      <th>Residence</th>\n    </tr>\n  </thead>\n  <tbody>\n    <tr>\n      <th>Haddington</th>\n      <td>222</td>\n      <td>38.0</td>\n    </tr>\n    <tr>\n      <th>Aberdeen</th>\n      <td>64</td>\n      <td>10.0</td>\n    </tr>\n    <tr>\n      <th>Dalkeith</th>\n      <td>47</td>\n      <td>7.0</td>\n    </tr>\n    <tr>\n      <th>Edinburgh</th>\n      <td>46</td>\n      <td>7.0</td>\n    </tr>\n    <tr>\n      <th>Dumfries</th>\n      <td>46</td>\n      <td>7.0</td>\n    </tr>\n    <tr>\n      <th>...</th>\n      <td>...</td>\n      <td>...</td>\n    </tr>\n    <tr>\n      <th>Haining</th>\n      <td>1</td>\n      <td>NaN</td>\n    </tr>\n    <tr>\n      <th>Elliot</th>\n      <td>1</td>\n      <td>NaN</td>\n    </tr>\n    <tr>\n      <th>Bilbster</th>\n      <td>1</td>\n      <td>NaN</td>\n    </tr>\n    <tr>\n      <th>Findo Gask</th>\n      <td>1</td>\n      <td>NaN</td>\n    </tr>\n    <tr>\n      <th>Bearsden</th>\n      <td>1</td>\n      <td>NaN</td>\n    </tr>\n  </tbody>\n</table>\n<p>724 rows × 2 columns</p>\n</div>"
     },
     "execution_count": 21,
     "metadata": {},
     "output_type": "execute_result"
    }
   ],
   "source": [
    "pd.concat([df['Residence'].value_counts(),df2['Residence'].value_counts()],axis=1)"
   ],
   "metadata": {
    "collapsed": false,
    "ExecuteTime": {
     "end_time": "2023-11-16T12:08:42.923242200Z",
     "start_time": "2023-11-16T12:08:42.874623800Z"
    }
   },
   "id": "4134f97686d47763"
  },
  {
   "cell_type": "markdown",
   "source": [
    "They are basically similar distributions. Those places only had less than five male witch sizes, which are too small to analyse. \n",
    "\n",
    "#### Next, check the times:"
   ],
   "metadata": {
    "collapsed": false
   },
   "id": "8c578b3e2d18568f"
  },
  {
   "cell_type": "code",
   "execution_count": 22,
   "outputs": [
    {
     "data": {
      "text/plain": "<Figure size 842.4x595.44 with 1 Axes>",
      "image/png": "[encoded data removed]"
     },
     "metadata": {},
     "output_type": "display_data"
    }
   ],
   "source": [
    "sns.set(font_scale=1.8)\n",
    "ax = sns.histplot(data=df2['year'],binwidth=5)\n",
    "plt.show()"
   ],
   "metadata": {
    "collapsed": false,
    "ExecuteTime": {
     "end_time": "2023-11-16T12:08:43.433665600Z",
     "start_time": "2023-11-16T12:08:42.906126800Z"
    }
   },
   "id": "bd4187132d3fe918"
  },
  {
   "cell_type": "markdown",
   "source": [
    "The max came similarly around 1650, with a slightly different trend of growing during the first decades."
   ],
   "metadata": {
    "collapsed": false
   },
   "id": "9dd2c1af39e3408"
  },
  {
   "cell_type": "markdown",
   "source": [
    "To do: Check whether there were any families or couples. Need to learn about the names: How many family names are normal? Does that mean the same family if (or only) the final names are the same? Has any division happened? Also, in terms of geography, any male cluster? "
   ],
   "metadata": {
    "collapsed": false
   },
   "id": "260163fc29c32601"
  },
  {
   "cell_type": "markdown",
   "source": [
    "### The Names\n",
    "\n",
    "Anyway the names are definitely worth a look.\n",
    "\n",
    "First, as usual, get a seperated dataframe to work with: "
   ],
   "metadata": {
    "collapsed": false
   },
   "id": "ccaebccc0ba10837"
  },
  {
   "cell_type": "code",
   "execution_count": 23,
   "outputs": [
    {
     "data": {
      "text/plain": "                             Name  Gender\n0                 Jonnet McKennan  Female\n1                 Jonet Braidheid  Female\n2     Wife of Soirle McAllexander  Female\n3                Christian Watson  Female\n4                  Janet Conochie  Female\n...                           ...     ...\n3149             Grissell Jaffray  Female\n3150                Isobell Young  Female\n3151              Margaret Burges  Female\n3152              Margaret Fulton  Female\n3153               Agnes Naismith  Female\n\n[3154 rows x 2 columns]",
      "text/html": "<div>\n<style scoped>\n    .dataframe tbody tr th:only-of-type {\n        vertical-align: middle;\n    }\n\n    .dataframe tbody tr th {\n        vertical-align: top;\n    }\n\n    .dataframe thead th {\n        text-align: right;\n    }\n</style>\n<table border=\"1\" class=\"dataframe\">\n  <thead>\n    <tr style=\"text-align: right;\">\n      <th></th>\n      <th>Name</th>\n      <th>Gender</th>\n    </tr>\n  </thead>\n  <tbody>\n    <tr>\n      <th>0</th>\n      <td>Jonnet McKennan</td>\n      <td>Female</td>\n    </tr>\n    <tr>\n      <th>1</th>\n      <td>Jonet Braidheid</td>\n      <td>Female</td>\n    </tr>\n    <tr>\n      <th>2</th>\n      <td>Wife of Soirle McAllexander</td>\n      <td>Female</td>\n    </tr>\n    <tr>\n      <th>3</th>\n      <td>Christian Watson</td>\n      <td>Female</td>\n    </tr>\n    <tr>\n      <th>4</th>\n      <td>Janet Conochie</td>\n      <td>Female</td>\n    </tr>\n    <tr>\n      <th>...</th>\n      <td>...</td>\n      <td>...</td>\n    </tr>\n    <tr>\n      <th>3149</th>\n      <td>Grissell Jaffray</td>\n      <td>Female</td>\n    </tr>\n    <tr>\n      <th>3150</th>\n      <td>Isobell Young</td>\n      <td>Female</td>\n    </tr>\n    <tr>\n      <th>3151</th>\n      <td>Margaret Burges</td>\n      <td>Female</td>\n    </tr>\n    <tr>\n      <th>3152</th>\n      <td>Margaret Fulton</td>\n      <td>Female</td>\n    </tr>\n    <tr>\n      <th>3153</th>\n      <td>Agnes Naismith</td>\n      <td>Female</td>\n    </tr>\n  </tbody>\n</table>\n<p>3154 rows × 2 columns</p>\n</div>"
     },
     "execution_count": 23,
     "metadata": {},
     "output_type": "execute_result"
    }
   ],
   "source": [
    "df3 = df[['Name','Gender']]\n",
    "df3"
   ],
   "metadata": {
    "collapsed": false,
    "ExecuteTime": {
     "end_time": "2023-11-16T12:08:43.435665800Z",
     "start_time": "2023-11-16T12:08:43.250920800Z"
    }
   },
   "id": "af17a98ecbf916cd"
  },
  {
   "cell_type": "markdown",
   "source": [
    "split the Name column in to parts seperated by blanks:"
   ],
   "metadata": {
    "collapsed": false
   },
   "id": "ae35b53d9575dba8"
  },
  {
   "cell_type": "code",
   "execution_count": 24,
   "outputs": [
    {
     "name": "stderr",
     "output_type": "stream",
     "text": [
      "C:\\Users\\Lactose\\AppData\\Local\\Temp\\ipykernel_1732\\506238152.py:1: SettingWithCopyWarning: \n",
      "A value is trying to be set on a copy of a slice from a DataFrame.\n",
      "Try using .loc[row_indexer,col_indexer] = value instead\n",
      "\n",
      "See the caveats in the documentation: https://pandas.pydata.org/pandas-docs/stable/user_guide/indexing.html#returning-a-view-versus-a-copy\n",
      "  df3['split_names'] = df3['Name'].apply(lambda x:x.split(' '))\n"
     ]
    },
    {
     "data": {
      "text/plain": "0                     [Jonnet, McKennan]\n1                     [Jonet, Braidheid]\n2       [Wife, of, Soirle, McAllexander]\n3                    [Christian, Watson]\n4                      [Janet, Conochie]\n                      ...               \n3149                 [Grissell, Jaffray]\n3150                    [Isobell, Young]\n3151                  [Margaret, Burges]\n3152                  [Margaret, Fulton]\n3153                   [Agnes, Naismith]\nName: split_names, Length: 3154, dtype: object"
     },
     "execution_count": 24,
     "metadata": {},
     "output_type": "execute_result"
    }
   ],
   "source": [
    "df3['split_names'] = df3['Name'].apply(lambda x:x.split(' '))\n",
    "df3['split_names']"
   ],
   "metadata": {
    "collapsed": false,
    "ExecuteTime": {
     "end_time": "2023-11-16T12:08:44.227879300Z",
     "start_time": "2023-11-16T12:08:43.283927700Z"
    }
   },
   "id": "1515983a4ee3b367"
  },
  {
   "cell_type": "markdown",
   "source": [
    "Lovely, then we can take a look at names at the last and the first position:"
   ],
   "metadata": {
    "collapsed": false
   },
   "id": "ca768a7c803da9ff"
  },
  {
   "cell_type": "code",
   "execution_count": 25,
   "outputs": [
    {
     "name": "stderr",
     "output_type": "stream",
     "text": [
      "C:\\Users\\Lactose\\AppData\\Local\\Temp\\ipykernel_1732\\3811863869.py:1: SettingWithCopyWarning: \n",
      "A value is trying to be set on a copy of a slice from a DataFrame.\n",
      "Try using .loc[row_indexer,col_indexer] = value instead\n",
      "\n",
      "See the caveats in the documentation: https://pandas.pydata.org/pandas-docs/stable/user_guide/indexing.html#returning-a-view-versus-a-copy\n",
      "  df3['first_names'] = df3['split_names'].apply(lambda x:x[0])\n",
      "C:\\Users\\Lactose\\AppData\\Local\\Temp\\ipykernel_1732\\3811863869.py:2: SettingWithCopyWarning: \n",
      "A value is trying to be set on a copy of a slice from a DataFrame.\n",
      "Try using .loc[row_indexer,col_indexer] = value instead\n",
      "\n",
      "See the caveats in the documentation: https://pandas.pydata.org/pandas-docs/stable/user_guide/indexing.html#returning-a-view-versus-a-copy\n",
      "  df3['last_names'] = df3['split_names'].apply(lambda x:x[-1])\n"
     ]
    },
    {
     "data": {
      "text/plain": "     first_names    last_names\n0         Jonnet      McKennan\n1          Jonet     Braidheid\n2           Wife  McAllexander\n3      Christian        Watson\n4          Janet      Conochie\n...          ...           ...\n3149    Grissell       Jaffray\n3150     Isobell         Young\n3151    Margaret        Burges\n3152    Margaret        Fulton\n3153       Agnes      Naismith\n\n[3154 rows x 2 columns]",
      "text/html": "<div>\n<style scoped>\n    .dataframe tbody tr th:only-of-type {\n        vertical-align: middle;\n    }\n\n    .dataframe tbody tr th {\n        vertical-align: top;\n    }\n\n    .dataframe thead th {\n        text-align: right;\n    }\n</style>\n<table border=\"1\" class=\"dataframe\">\n  <thead>\n    <tr style=\"text-align: right;\">\n      <th></th>\n      <th>first_names</th>\n      <th>last_names</th>\n    </tr>\n  </thead>\n  <tbody>\n    <tr>\n      <th>0</th>\n      <td>Jonnet</td>\n      <td>McKennan</td>\n    </tr>\n    <tr>\n      <th>1</th>\n      <td>Jonet</td>\n      <td>Braidheid</td>\n    </tr>\n    <tr>\n      <th>2</th>\n      <td>Wife</td>\n      <td>McAllexander</td>\n    </tr>\n    <tr>\n      <th>3</th>\n      <td>Christian</td>\n      <td>Watson</td>\n    </tr>\n    <tr>\n      <th>4</th>\n      <td>Janet</td>\n      <td>Conochie</td>\n    </tr>\n    <tr>\n      <th>...</th>\n      <td>...</td>\n      <td>...</td>\n    </tr>\n    <tr>\n      <th>3149</th>\n      <td>Grissell</td>\n      <td>Jaffray</td>\n    </tr>\n    <tr>\n      <th>3150</th>\n      <td>Isobell</td>\n      <td>Young</td>\n    </tr>\n    <tr>\n      <th>3151</th>\n      <td>Margaret</td>\n      <td>Burges</td>\n    </tr>\n    <tr>\n      <th>3152</th>\n      <td>Margaret</td>\n      <td>Fulton</td>\n    </tr>\n    <tr>\n      <th>3153</th>\n      <td>Agnes</td>\n      <td>Naismith</td>\n    </tr>\n  </tbody>\n</table>\n<p>3154 rows × 2 columns</p>\n</div>"
     },
     "execution_count": 25,
     "metadata": {},
     "output_type": "execute_result"
    }
   ],
   "source": [
    "df3['first_names'] = df3['split_names'].apply(lambda x:x[0])\n",
    "df3['last_names'] = df3['split_names'].apply(lambda x:x[-1])\n",
    "df3[['first_names','last_names']]"
   ],
   "metadata": {
    "collapsed": false,
    "ExecuteTime": {
     "end_time": "2023-11-16T12:08:44.302886400Z",
     "start_time": "2023-11-16T12:08:44.227443100Z"
    }
   },
   "id": "7761ad449cdd454"
  },
  {
   "cell_type": "code",
   "execution_count": 26,
   "outputs": [
    {
     "data": {
      "text/plain": "Wilson      33\nAnderson    25\nGray        24\nYoung       23\nStewart     22\n            ..\nHuttoun      1\nFernsche     1\nFren         1\nBoswell      1\nFulton       1\nName: last_names, Length: 1760, dtype: int64"
     },
     "execution_count": 26,
     "metadata": {},
     "output_type": "execute_result"
    }
   ],
   "source": [
    "df3['last_names'].value_counts()"
   ],
   "metadata": {
    "collapsed": false,
    "ExecuteTime": {
     "end_time": "2023-11-16T12:08:44.306888700Z",
     "start_time": "2023-11-16T12:08:44.290883100Z"
    }
   },
   "id": "c837690c17d3ae8b"
  },
  {
   "cell_type": "markdown",
   "source": [
    "It seems not a few witches shared the same last name. However, it needs deeper study to explain this outcome."
   ],
   "metadata": {
    "collapsed": false
   },
   "id": "c4559e2e393d1a55"
  },
  {
   "cell_type": "code",
   "execution_count": 27,
   "outputs": [
    {
     "data": {
      "text/plain": "Margaret    375\nJonet       195\nJanet       192\nAgnes       183\nBessie      129\n           ... \nMarrion       1\nIsable        1\nAnny          1\nEwfame        1\nUnknown       1\nName: first_names, Length: 406, dtype: int64"
     },
     "execution_count": 27,
     "metadata": {},
     "output_type": "execute_result"
    }
   ],
   "source": [
    "df3['first_names'].value_counts()"
   ],
   "metadata": {
    "collapsed": false,
    "ExecuteTime": {
     "end_time": "2023-11-16T12:08:44.334892700Z",
     "start_time": "2023-11-16T12:08:44.306888700Z"
    }
   },
   "id": "1f6a206350dd9e3a"
  },
  {
   "cell_type": "markdown",
   "source": [
    "Also, Margaret was far ahead of other names. Furthermore, check the full names just in case:"
   ],
   "metadata": {
    "collapsed": false
   },
   "id": "eb70272a78fbc1a7"
  },
  {
   "cell_type": "code",
   "execution_count": 28,
   "outputs": [
    {
     "data": {
      "text/plain": "Margaret Watson        5\nMargaret Young         5\nMargaret Wallace       5\nJanet Anderson         4\nMargaret Guthrie       4\n                      ..\nElspeth Crystie        1\nJonet Wallace          1\nKatherine King         1\nMargaret Williamson    1\nAgnes Naismith         1\nName: Name, Length: 2912, dtype: int64"
     },
     "execution_count": 28,
     "metadata": {},
     "output_type": "execute_result"
    }
   ],
   "source": [
    "df['Name'].value_counts()"
   ],
   "metadata": {
    "collapsed": false,
    "ExecuteTime": {
     "end_time": "2023-11-16T12:08:44.431484800Z",
     "start_time": "2023-11-16T12:08:44.321897600Z"
    }
   },
   "id": "c21af9b58db0de96"
  },
  {
   "cell_type": "markdown",
   "source": [
    "So many witches of the same surname and given name! Is this a coincidence? Or some witches got caught multiple times? This is worth investigating, by checking the location(Long,Lat) can verify it in some ways."
   ],
   "metadata": {
    "collapsed": false
   },
   "id": "e3a37550c955b689"
  },
  {
   "cell_type": "markdown",
   "source": [
    "## What's Next\n",
    "\n",
    "- What was the relationship between witches and associated people?\n",
    "\n",
    "- Were there any family business?\n",
    "\n",
    "- Any cluster in the term of the geography?\n",
    "\n",
    "- Parish choropleth, were they influencing witch hunting? \n",
    "\n",
    "- From residence location to detainment place, to place of death, any indication? Rights center? Execution ground? Concentration camp?\n",
    " "
   ],
   "metadata": {
    "collapsed": false
   },
   "id": "691c22ab8302e61f"
  }
 ],
 "metadata": {
  "kernelspec": {
   "display_name": "Python 3",
   "language": "python",
   "name": "python3"
  },
  "language_info": {
   "codemirror_mode": {
    "name": "ipython",
    "version": 2
   },
   "file_extension": ".py",
   "mimetype": "text/x-python",
   "name": "python",
   "nbconvert_exporter": "python",
   "pygments_lexer": "ipython2",
   "version": "2.7.6"
  }
 },
 "nbformat": 4,
 "nbformat_minor": 5
}
