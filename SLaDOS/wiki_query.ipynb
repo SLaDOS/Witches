{
 "cells": [
  {
   "cell_type": "code",
   "execution_count": 2,
   "id": "initial_id",
   "metadata": {
    "collapsed": true,
    "ExecuteTime": {
     "end_time": "2023-11-02T10:59:42.841256Z",
     "start_time": "2023-11-02T10:59:39.843526Z"
    }
   },
   "outputs": [],
   "source": [
    "import sys\n",
    "import pandas as pd\n",
    "from typing import List, Dict\n",
    "from SPARQLWrapper import SPARQLWrapper, JSON\n",
    "\n",
    "class WikiDataQueryResults:\n",
    "    \"\"\"\n",
    "    A class that can be used to query data from Wikidata using SPARQL and return the results as a Pandas DataFrame or a list\n",
    "    of values for a specific key.\n",
    "    \"\"\"\n",
    "    def __init__(self, query: str):\n",
    "        \"\"\"\n",
    "        Initializes the WikiDataQueryResults object with a SPARQL query string.\n",
    "\n",
    "        :param query: A SPARQL query string.\n",
    "        \"\"\"\n",
    "        self.user_agent = \"WDQS-example Python/%s.%s\" % (sys.version_info[0], sys.version_info[1])\n",
    "        self.endpoint_url = \"https://query.wikidata.org/sparql\"\n",
    "        self.sparql = SPARQLWrapper(self.endpoint_url, agent=self.user_agent)\n",
    "        self.sparql.setQuery(query)\n",
    "        self.sparql.setReturnFormat(JSON)\n",
    "\n",
    "    def __transform2dicts(self, results: List[Dict]) -> List[Dict]:\n",
    "        \"\"\"\n",
    "        Helper function to transform SPARQL query results into a list of dictionaries.\n",
    "\n",
    "        :param results: A list of query results returned by SPARQLWrapper.\n",
    "        :return: A list of dictionaries, where each dictionary represents a result row and has keys corresponding to the\n",
    "        variables in the SPARQL SELECT clause.\n",
    "        \"\"\"\n",
    "        new_results = []\n",
    "        for result in results:\n",
    "            new_result = {}\n",
    "            for key in result:\n",
    "                new_result[key] = result[key]['value']\n",
    "            new_results.append(new_result)\n",
    "        return new_results\n",
    "\n",
    "    def _load(self) -> List[Dict]:\n",
    "        \"\"\"\n",
    "        Helper function that loads the data from Wikidata using the SPARQLWrapper library, and transforms the results into\n",
    "        a list of dictionaries.\n",
    "\n",
    "        :return: A list of dictionaries, where each dictionary represents a result row and has keys corresponding to the\n",
    "        variables in the SPARQL SELECT clause.\n",
    "        \"\"\"\n",
    "        results = self.sparql.queryAndConvert()['results']['bindings']\n",
    "        results = self.__transform2dicts(results)\n",
    "        return results\n",
    "\n",
    "    def load_as_dataframe(self) -> pd.DataFrame:\n",
    "        \"\"\"\n",
    "        Executes the SPARQL query and returns the results as a Pandas DataFrame.\n",
    "\n",
    "        :return: A Pandas DataFrame representing the query results.\n",
    "        \"\"\"\n",
    "        results = self._load()\n",
    "        return pd.DataFrame.from_dict(results)"
   ]
  },
  {
   "cell_type": "code",
   "execution_count": 4,
   "outputs": [
    {
     "name": "stdout",
     "output_type": "stream",
     "text": [
      "                                       item      witch  \\\n",
      "0  http://www.wikidata.org/entity/Q43389933  A/EGD/947   \n",
      "1  http://www.wikidata.org/entity/Q43390990  A/EGD/385   \n",
      "2  http://www.wikidata.org/entity/Q43390997  A/EGD/391   \n",
      "3  http://www.wikidata.org/entity/Q43391058  A/EGD/443   \n",
      "4  http://www.wikidata.org/entity/Q43391069  A/EGD/454   \n",
      "\n",
      "                   coordinate        itemLabel residenceLabel genderLabel  \\\n",
      "0      Point(-3.6293 56.0554)     Helene Ezatt        Culross      female   \n",
      "1     Point(-3.14673 55.9416)    Issobel Broun    Duddingston      female   \n",
      "2     Point(-3.14673 55.9416)    Isobel Ramsay    Duddingston      female   \n",
      "3  Point(-3.783964 57.583936)  Elspet Falconer         Penick      female   \n",
      "4  Point(-3.753976 57.556804)        Janet Man    East Milton      female   \n",
      "\n",
      "  detainLabel classLabel         mdeathLabel deathlocLabel occupationLabel  \\\n",
      "0     Culross        NaN                 NaN           NaN             NaN   \n",
      "1         NaN   middling                 NaN           NaN             NaN   \n",
      "2         NaN        NaN  capital punishment           NaN             NaN   \n",
      "3         NaN        NaN                 NaN           NaN             NaN   \n",
      "4         NaN        NaN                 NaN           NaN             NaN   \n",
      "\n",
      "  ethnicLabel  \n",
      "0         NaN  \n",
      "1         NaN  \n",
      "2         NaN  \n",
      "3         NaN  \n",
      "4         NaN  \n"
     ]
    }
   ],
   "source": [
    "query = \"\"\"#Places of residence of accused witches in Scotland 1563-1736\n",
    "SELECT ?item ?witch ?itemLabel ?residenceLabel ?coordinate ?genderLabel ?occupationLabel ?chargeLabel ?classLabel ?ethnicLabel ?mdeathLabel ?cdeathLabel ?deathlocLabel ?detainLabel\n",
    "WHERE {\n",
    "  ?item wdt:P4478 ?witch;\n",
    "    wdt:P551 ?residence.\n",
    "  ?residence wdt:P625 ?coordinate.\n",
    "  OPTIONAL \n",
    "  {\n",
    "    ?item wdt:P21 ?gender .\n",
    "  }\n",
    "  OPTIONAL\n",
    "  {\n",
    "    ?item wdt:P106 ?occupation .\n",
    "  }\n",
    "  OPTIONAL \n",
    "  {\n",
    "    #?item wdt:P1595 ?charge . \n",
    "  }\n",
    "  OPTIONAL\n",
    "  {\n",
    "    ?item wdt:P3716 ?class . \n",
    "  }\n",
    "  OPTIONAL \n",
    "  {\n",
    "    ?item wdt:P172 ?ethnic .\n",
    "  }\n",
    "  OPTIONAL \n",
    "  {\n",
    "    ?item wdt:P1196 ?mdeath . \n",
    "  } \n",
    "  OPTIONAL \n",
    "  { \n",
    "    #?item wdt:P509 ?cdeath .\n",
    "  }\n",
    "  OPTIONAL \n",
    "  {\n",
    "    ?item wdt:P20 ?deathloc . \n",
    "   } \n",
    "  OPTIONAL \n",
    "  {\n",
    "    ?item wdt:P2632 ?detain . \n",
    "  }\n",
    " \n",
    "  SERVICE wikibase:label { bd:serviceParam wikibase:language \"[AUTO_LANGUAGE],en\". }\n",
    "}\"\"\"\n",
    "\n",
    "data_extracter = WikiDataQueryResults(query)\n",
    "df = data_extracter.load_as_dataframe()"
   ],
   "metadata": {
    "collapsed": false,
    "ExecuteTime": {
     "end_time": "2023-11-02T11:01:07.845814Z",
     "start_time": "2023-11-02T11:01:05.103945500Z"
    }
   },
   "id": "2180e076c72cae12"
  },
  {
   "cell_type": "code",
   "execution_count": 7,
   "outputs": [
    {
     "data": {
      "text/plain": "                                          item       witch  \\\n0     http://www.wikidata.org/entity/Q43389933   A/EGD/947   \n1     http://www.wikidata.org/entity/Q43390990   A/EGD/385   \n2     http://www.wikidata.org/entity/Q43390997   A/EGD/391   \n3     http://www.wikidata.org/entity/Q43391058   A/EGD/443   \n4     http://www.wikidata.org/entity/Q43391069   A/EGD/454   \n...                                        ...         ...   \n3197  http://www.wikidata.org/entity/Q43396206   A/LA/3173   \n3198  http://www.wikidata.org/entity/Q43396227   A/LA/3222   \n3199  http://www.wikidata.org/entity/Q43396240   A/LA/3237   \n3200  http://www.wikidata.org/entity/Q55641024  A/EGD/1327   \n3201  http://www.wikidata.org/entity/Q55641024  A/EGD/1327   \n\n                            coordinate        itemLabel residenceLabel  \\\n0               Point(-3.6293 56.0554)     Helene Ezatt        Culross   \n1              Point(-3.14673 55.9416)    Issobel Broun    Duddingston   \n2              Point(-3.14673 55.9416)    Isobel Ramsay    Duddingston   \n3           Point(-3.783964 57.583936)  Elspet Falconer         Penick   \n4           Point(-3.753976 57.556804)        Janet Man    East Milton   \n...                                ...              ...            ...   \n3197  Point(-2.522777777 55.998333333)    Agnes Bathcut         Dunbar   \n3198           Point(-2.52264 56.5895)    Henrye Stevin     Auchmithie   \n3199        Point(-3.196791 56.584612)         Lyvelyke        Kinloch   \n3200           Point(-4.62856 55.7925)      Mauld Gauld    Lochwinnoch   \n3201            Point(-4.5537 55.8362)      Mauld Gauld     Kilbarchan   \n\n     genderLabel detainLabel classLabel         mdeathLabel deathlocLabel  \\\n0         female     Culross        NaN                 NaN           NaN   \n1         female         NaN   middling                 NaN           NaN   \n2         female         NaN        NaN  capital punishment           NaN   \n3         female         NaN        NaN                 NaN           NaN   \n4         female         NaN        NaN                 NaN           NaN   \n...          ...         ...        ...                 ...           ...   \n3197      female         NaN        NaN                 NaN           NaN   \n3198        male         NaN        NaN                 NaN           NaN   \n3199         NaN         NaN        NaN                 NaN           NaN   \n3200      female         NaN   middling                 NaN           NaN   \n3201      female         NaN   middling                 NaN           NaN   \n\n     occupationLabel ethnicLabel  \n0                NaN         NaN  \n1                NaN         NaN  \n2                NaN         NaN  \n3                NaN         NaN  \n4                NaN         NaN  \n...              ...         ...  \n3197             NaN         NaN  \n3198             NaN         NaN  \n3199             NaN         NaN  \n3200             NaN         NaN  \n3201             NaN         NaN  \n\n[3202 rows x 12 columns]",
      "text/html": "<div>\n<style scoped>\n    .dataframe tbody tr th:only-of-type {\n        vertical-align: middle;\n    }\n\n    .dataframe tbody tr th {\n        vertical-align: top;\n    }\n\n    .dataframe thead th {\n        text-align: right;\n    }\n</style>\n<table border=\"1\" class=\"dataframe\">\n  <thead>\n    <tr style=\"text-align: right;\">\n      <th></th>\n      <th>item</th>\n      <th>witch</th>\n      <th>coordinate</th>\n      <th>itemLabel</th>\n      <th>residenceLabel</th>\n      <th>genderLabel</th>\n      <th>detainLabel</th>\n      <th>classLabel</th>\n      <th>mdeathLabel</th>\n      <th>deathlocLabel</th>\n      <th>occupationLabel</th>\n      <th>ethnicLabel</th>\n    </tr>\n  </thead>\n  <tbody>\n    <tr>\n      <th>0</th>\n      <td>http://www.wikidata.org/entity/Q43389933</td>\n      <td>A/EGD/947</td>\n      <td>Point(-3.6293 56.0554)</td>\n      <td>Helene Ezatt</td>\n      <td>Culross</td>\n      <td>female</td>\n      <td>Culross</td>\n      <td>NaN</td>\n      <td>NaN</td>\n      <td>NaN</td>\n      <td>NaN</td>\n      <td>NaN</td>\n    </tr>\n    <tr>\n      <th>1</th>\n      <td>http://www.wikidata.org/entity/Q43390990</td>\n      <td>A/EGD/385</td>\n      <td>Point(-3.14673 55.9416)</td>\n      <td>Issobel Broun</td>\n      <td>Duddingston</td>\n      <td>female</td>\n      <td>NaN</td>\n      <td>middling</td>\n      <td>NaN</td>\n      <td>NaN</td>\n      <td>NaN</td>\n      <td>NaN</td>\n    </tr>\n    <tr>\n      <th>2</th>\n      <td>http://www.wikidata.org/entity/Q43390997</td>\n      <td>A/EGD/391</td>\n      <td>Point(-3.14673 55.9416)</td>\n      <td>Isobel Ramsay</td>\n      <td>Duddingston</td>\n      <td>female</td>\n      <td>NaN</td>\n      <td>NaN</td>\n      <td>capital punishment</td>\n      <td>NaN</td>\n      <td>NaN</td>\n      <td>NaN</td>\n    </tr>\n    <tr>\n      <th>3</th>\n      <td>http://www.wikidata.org/entity/Q43391058</td>\n      <td>A/EGD/443</td>\n      <td>Point(-3.783964 57.583936)</td>\n      <td>Elspet Falconer</td>\n      <td>Penick</td>\n      <td>female</td>\n      <td>NaN</td>\n      <td>NaN</td>\n      <td>NaN</td>\n      <td>NaN</td>\n      <td>NaN</td>\n      <td>NaN</td>\n    </tr>\n    <tr>\n      <th>4</th>\n      <td>http://www.wikidata.org/entity/Q43391069</td>\n      <td>A/EGD/454</td>\n      <td>Point(-3.753976 57.556804)</td>\n      <td>Janet Man</td>\n      <td>East Milton</td>\n      <td>female</td>\n      <td>NaN</td>\n      <td>NaN</td>\n      <td>NaN</td>\n      <td>NaN</td>\n      <td>NaN</td>\n      <td>NaN</td>\n    </tr>\n    <tr>\n      <th>...</th>\n      <td>...</td>\n      <td>...</td>\n      <td>...</td>\n      <td>...</td>\n      <td>...</td>\n      <td>...</td>\n      <td>...</td>\n      <td>...</td>\n      <td>...</td>\n      <td>...</td>\n      <td>...</td>\n      <td>...</td>\n    </tr>\n    <tr>\n      <th>3197</th>\n      <td>http://www.wikidata.org/entity/Q43396206</td>\n      <td>A/LA/3173</td>\n      <td>Point(-2.522777777 55.998333333)</td>\n      <td>Agnes Bathcut</td>\n      <td>Dunbar</td>\n      <td>female</td>\n      <td>NaN</td>\n      <td>NaN</td>\n      <td>NaN</td>\n      <td>NaN</td>\n      <td>NaN</td>\n      <td>NaN</td>\n    </tr>\n    <tr>\n      <th>3198</th>\n      <td>http://www.wikidata.org/entity/Q43396227</td>\n      <td>A/LA/3222</td>\n      <td>Point(-2.52264 56.5895)</td>\n      <td>Henrye Stevin</td>\n      <td>Auchmithie</td>\n      <td>male</td>\n      <td>NaN</td>\n      <td>NaN</td>\n      <td>NaN</td>\n      <td>NaN</td>\n      <td>NaN</td>\n      <td>NaN</td>\n    </tr>\n    <tr>\n      <th>3199</th>\n      <td>http://www.wikidata.org/entity/Q43396240</td>\n      <td>A/LA/3237</td>\n      <td>Point(-3.196791 56.584612)</td>\n      <td>Lyvelyke</td>\n      <td>Kinloch</td>\n      <td>NaN</td>\n      <td>NaN</td>\n      <td>NaN</td>\n      <td>NaN</td>\n      <td>NaN</td>\n      <td>NaN</td>\n      <td>NaN</td>\n    </tr>\n    <tr>\n      <th>3200</th>\n      <td>http://www.wikidata.org/entity/Q55641024</td>\n      <td>A/EGD/1327</td>\n      <td>Point(-4.62856 55.7925)</td>\n      <td>Mauld Gauld</td>\n      <td>Lochwinnoch</td>\n      <td>female</td>\n      <td>NaN</td>\n      <td>middling</td>\n      <td>NaN</td>\n      <td>NaN</td>\n      <td>NaN</td>\n      <td>NaN</td>\n    </tr>\n    <tr>\n      <th>3201</th>\n      <td>http://www.wikidata.org/entity/Q55641024</td>\n      <td>A/EGD/1327</td>\n      <td>Point(-4.5537 55.8362)</td>\n      <td>Mauld Gauld</td>\n      <td>Kilbarchan</td>\n      <td>female</td>\n      <td>NaN</td>\n      <td>middling</td>\n      <td>NaN</td>\n      <td>NaN</td>\n      <td>NaN</td>\n      <td>NaN</td>\n    </tr>\n  </tbody>\n</table>\n<p>3202 rows × 12 columns</p>\n</div>"
     },
     "execution_count": 7,
     "metadata": {},
     "output_type": "execute_result"
    }
   ],
   "source": [
    "df"
   ],
   "metadata": {
    "collapsed": false,
    "ExecuteTime": {
     "end_time": "2023-11-02T11:07:07.916580600Z",
     "start_time": "2023-11-02T11:07:07.874915800Z"
    }
   },
   "id": "411893e6e6a72bd9"
  },
  {
   "cell_type": "code",
   "execution_count": 6,
   "outputs": [
    {
     "data": {
      "text/plain": "                                         item      witch  \\\n620  http://www.wikidata.org/entity/Q43392555  A/EGD/102   \n\n                           coordinate            itemLabel residenceLabel  \\\n620  Point(-3.189166666 55.953333333)  Niniane Chirneyside      Edinburgh   \n\n    genderLabel detainLabel classLabel mdeathLabel deathlocLabel  \\\n620        male         NaN   middling         NaN           NaN   \n\n    occupationLabel ethnicLabel  \n620         servant         NaN  ",
      "text/html": "<div>\n<style scoped>\n    .dataframe tbody tr th:only-of-type {\n        vertical-align: middle;\n    }\n\n    .dataframe tbody tr th {\n        vertical-align: top;\n    }\n\n    .dataframe thead th {\n        text-align: right;\n    }\n</style>\n<table border=\"1\" class=\"dataframe\">\n  <thead>\n    <tr style=\"text-align: right;\">\n      <th></th>\n      <th>item</th>\n      <th>witch</th>\n      <th>coordinate</th>\n      <th>itemLabel</th>\n      <th>residenceLabel</th>\n      <th>genderLabel</th>\n      <th>detainLabel</th>\n      <th>classLabel</th>\n      <th>mdeathLabel</th>\n      <th>deathlocLabel</th>\n      <th>occupationLabel</th>\n      <th>ethnicLabel</th>\n    </tr>\n  </thead>\n  <tbody>\n    <tr>\n      <th>620</th>\n      <td>http://www.wikidata.org/entity/Q43392555</td>\n      <td>A/EGD/102</td>\n      <td>Point(-3.189166666 55.953333333)</td>\n      <td>Niniane Chirneyside</td>\n      <td>Edinburgh</td>\n      <td>male</td>\n      <td>NaN</td>\n      <td>middling</td>\n      <td>NaN</td>\n      <td>NaN</td>\n      <td>servant</td>\n      <td>NaN</td>\n    </tr>\n  </tbody>\n</table>\n</div>"
     },
     "execution_count": 6,
     "metadata": {},
     "output_type": "execute_result"
    }
   ],
   "source": [
    "df[df['itemLabel']=='Niniane Chirneyside']"
   ],
   "metadata": {
    "collapsed": false,
    "ExecuteTime": {
     "end_time": "2023-11-02T11:06:22.644735200Z",
     "start_time": "2023-11-02T11:06:22.595009500Z"
    }
   },
   "id": "125a3edbfec89886"
  }
 ],
 "metadata": {
  "kernelspec": {
   "display_name": "Python 3",
   "language": "python",
   "name": "python3"
  },
  "language_info": {
   "codemirror_mode": {
    "name": "ipython",
    "version": 2
   },
   "file_extension": ".py",
   "mimetype": "text/x-python",
   "name": "python",
   "nbconvert_exporter": "python",
   "pygments_lexer": "ipython2",
   "version": "2.7.6"
  }
 },
 "nbformat": 4,
 "nbformat_minor": 5
}
