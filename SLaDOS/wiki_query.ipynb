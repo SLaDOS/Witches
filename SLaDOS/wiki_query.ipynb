{
 "cells": [
  {
   "cell_type": "code",
   "execution_count": 2,
   "id": "initial_id",
   "metadata": {
    "collapsed": true,
    "ExecuteTime": {
     "end_time": "2023-11-02T10:59:42.841256Z",
     "start_time": "2023-11-02T10:59:39.843526Z"
    }
   },
   "outputs": [],
   "source": [
    "import sys\n",
    "import pandas as pd\n",
    "from typing import List, Dict\n",
    "from SPARQLWrapper import SPARQLWrapper, JSON\n",
    "\n",
    "class WikiDataQueryResults:\n",
    "    \"\"\"\n",
    "    A class that can be used to query data from Wikidata using SPARQL and return the results as a Pandas DataFrame or a list\n",
    "    of values for a specific key.\n",
    "    \"\"\"\n",
    "    def __init__(self, query: str):\n",
    "        \"\"\"\n",
    "        Initializes the WikiDataQueryResults object with a SPARQL query string.\n",
    "\n",
    "        :param query: A SPARQL query string.\n",
    "        \"\"\"\n",
    "        self.user_agent = \"WDQS-example Python/%s.%s\" % (sys.version_info[0], sys.version_info[1])\n",
    "        self.endpoint_url = \"https://query.wikidata.org/sparql\"\n",
    "        self.sparql = SPARQLWrapper(self.endpoint_url, agent=self.user_agent)\n",
    "        self.sparql.setQuery(query)\n",
    "        self.sparql.setReturnFormat(JSON)\n",
    "\n",
    "    def __transform2dicts(self, results: List[Dict]) -> List[Dict]:\n",
    "        \"\"\"\n",
    "        Helper function to transform SPARQL query results into a list of dictionaries.\n",
    "\n",
    "        :param results: A list of query results returned by SPARQLWrapper.\n",
    "        :return: A list of dictionaries, where each dictionary represents a result row and has keys corresponding to the\n",
    "        variables in the SPARQL SELECT clause.\n",
    "        \"\"\"\n",
    "        new_results = []\n",
    "        for result in results:\n",
    "            new_result = {}\n",
    "            for key in result:\n",
    "                new_result[key] = result[key]['value']\n",
    "            new_results.append(new_result)\n",
    "        return new_results\n",
    "\n",
    "    def _load(self) -> List[Dict]:\n",
    "        \"\"\"\n",
    "        Helper function that loads the data from Wikidata using the SPARQLWrapper library, and transforms the results into\n",
    "        a list of dictionaries.\n",
    "\n",
    "        :return: A list of dictionaries, where each dictionary represents a result row and has keys corresponding to the\n",
    "        variables in the SPARQL SELECT clause.\n",
    "        \"\"\"\n",
    "        results = self.sparql.queryAndConvert()['results']['bindings']\n",
    "        results = self.__transform2dicts(results)\n",
    "        return results\n",
    "\n",
    "    def load_as_dataframe(self) -> pd.DataFrame:\n",
    "        \"\"\"\n",
    "        Executes the SPARQL query and returns the results as a Pandas DataFrame.\n",
    "\n",
    "        :return: A Pandas DataFrame representing the query results.\n",
    "        \"\"\"\n",
    "        results = self._load()\n",
    "        return pd.DataFrame.from_dict(results)"
   ]
  },
  {
   "cell_type": "code",
   "execution_count": 4,
   "outputs": [
    {
     "name": "stdout",
     "output_type": "stream",
     "text": [
      "                                       item      witch  \\\n",
      "0  http://www.wikidata.org/entity/Q43389933  A/EGD/947   \n",
      "1  http://www.wikidata.org/entity/Q43390990  A/EGD/385   \n",
      "2  http://www.wikidata.org/entity/Q43390997  A/EGD/391   \n",
      "3  http://www.wikidata.org/entity/Q43391058  A/EGD/443   \n",
      "4  http://www.wikidata.org/entity/Q43391069  A/EGD/454   \n",
      "\n",
      "                   coordinate        itemLabel residenceLabel genderLabel  \\\n",
      "0      Point(-3.6293 56.0554)     Helene Ezatt        Culross      female   \n",
      "1     Point(-3.14673 55.9416)    Issobel Broun    Duddingston      female   \n",
      "2     Point(-3.14673 55.9416)    Isobel Ramsay    Duddingston      female   \n",
      "3  Point(-3.783964 57.583936)  Elspet Falconer         Penick      female   \n",
      "4  Point(-3.753976 57.556804)        Janet Man    East Milton      female   \n",
      "\n",
      "  detainLabel classLabel         mdeathLabel deathlocLabel occupationLabel  \\\n",
      "0     Culross        NaN                 NaN           NaN             NaN   \n",
      "1         NaN   middling                 NaN           NaN             NaN   \n",
      "2         NaN        NaN  capital punishment           NaN             NaN   \n",
      "3         NaN        NaN                 NaN           NaN             NaN   \n",
      "4         NaN        NaN                 NaN           NaN             NaN   \n",
      "\n",
      "  ethnicLabel  \n",
      "0         NaN  \n",
      "1         NaN  \n",
      "2         NaN  \n",
      "3         NaN  \n",
      "4         NaN  \n"
     ]
    }
   ],
   "source": [
    "query = \"\"\"#Places of residence of accused witches in Scotland 1563-1736\n",
    "SELECT ?item ?witch ?itemLabel ?residenceLabel ?coordinate ?genderLabel ?occupationLabel ?chargeLabel ?classLabel ?ethnicLabel ?mdeathLabel ?cdeathLabel ?deathlocLabel ?detainLabel\n",
    "WHERE {\n",
    "  ?item wdt:P4478 ?witch;\n",
    "    wdt:P551 ?residence.\n",
    "  ?residence wdt:P625 ?coordinate.\n",
    "  OPTIONAL \n",
    "  {\n",
    "    ?item wdt:P21 ?gender .\n",
    "  }\n",
    "  OPTIONAL\n",
    "  {\n",
    "    ?item wdt:P106 ?occupation .\n",
    "  }\n",
    "  OPTIONAL \n",
    "  {\n",
    "    #?item wdt:P1595 ?charge . \n",
    "  }\n",
    "  OPTIONAL\n",
    "  {\n",
    "    ?item wdt:P3716 ?class . \n",
    "  }\n",
    "  OPTIONAL \n",
    "  {\n",
    "    ?item wdt:P172 ?ethnic .\n",
    "  }\n",
    "  OPTIONAL \n",
    "  {\n",
    "    ?item wdt:P1196 ?mdeath . \n",
    "  } \n",
    "  OPTIONAL \n",
    "  { \n",
    "    #?item wdt:P509 ?cdeath .\n",
    "  }\n",
    "  OPTIONAL \n",
    "  {\n",
    "    ?item wdt:P20 ?deathloc . \n",
    "   } \n",
    "  OPTIONAL \n",
    "  {\n",
    "    ?item wdt:P2632 ?detain . \n",
    "  }\n",
    " \n",
    "  SERVICE wikibase:label { bd:serviceParam wikibase:language \"[AUTO_LANGUAGE],en\". }\n",
    "}\"\"\"\n",
    "\n",
    "data_extracter = WikiDataQueryResults(query)\n",
    "df = data_extracter.load_as_dataframe()"
   ],
   "metadata": {
    "collapsed": false,
    "ExecuteTime": {
     "end_time": "2023-11-02T11:01:07.845814Z",
     "start_time": "2023-11-02T11:01:05.103945500Z"
    }
   },
   "id": "2180e076c72cae12"
  },
  {
   "cell_type": "code",
   "execution_count": 17,
   "outputs": [
    {
     "data": {
      "text/plain": "                                          item       witch  \\\n2     http://www.wikidata.org/entity/Q43390997   A/EGD/391   \n14    http://www.wikidata.org/entity/Q43391292   A/EGD/598   \n32    http://www.wikidata.org/entity/Q43394946   A/EGD/377   \n37    http://www.wikidata.org/entity/Q43395018    A/EGD/46   \n40    http://www.wikidata.org/entity/Q43395045    A/EGD/51   \n...                                        ...         ...   \n3163  http://www.wikidata.org/entity/Q43395326    A/EGD/90   \n3169  http://www.wikidata.org/entity/Q43393935  A/EGD/1764   \n3170  http://www.wikidata.org/entity/Q43393935  A/EGD/1764   \n3171  http://www.wikidata.org/entity/Q43393935  A/EGD/1764   \n3193  http://www.wikidata.org/entity/Q43402734   A/EGD/158   \n\n                            coordinate                itemLabel  \\\n2              Point(-3.14673 55.9416)            Isobel Ramsay   \n14              Point(-3.6293 56.0554)          Katherine Sands   \n32              Point(-3.13083 55.905)          Elspett Blackie   \n37              Point(-3.13083 55.905)                  Meg Dow   \n40               Point(-2.961 55.9597)  Johne McGill (McGillis)   \n...                                ...                      ...   \n3163          Point(-2.78332 55.95612)                  Meg Dun   \n3169        Point(-4.545491 55.902521)             John Lindsay   \n3170        Point(-4.545491 55.902521)             John Lindsay   \n3171        Point(-4.545491 55.902521)             John Lindsay   \n3193  Point(-2.011416666 55.764972222)                Jon Neill   \n\n     residenceLabel genderLabel detainLabel classLabel         mdeathLabel  \\\n2       Duddingston      female         NaN        NaN  capital punishment   \n14          Culross      female     Culross        NaN  capital punishment   \n32        Gilmerton      female         NaN        NaN  capital punishment   \n37        Gilmerton      female         NaN        NaN  capital punishment   \n40      Prestonpans        male         NaN        NaN  capital punishment   \n...             ...         ...         ...        ...                 ...   \n3163     Haddington      female         NaN        NaN  capital punishment   \n3169       Formakin        male     Glasgow        NaN  capital punishment   \n3170       Formakin        male     Paisley        NaN  capital punishment   \n3171       Formakin        male     Renfrew        NaN  capital punishment   \n3193     Tweedmouth        male   Edinburgh   middling  capital punishment   \n\n      deathlocLabel occupationLabel     ethnicLabel  \n2               NaN             NaN             NaN  \n14       Gallow Lea             NaN             NaN  \n32        Gilmerton             NaN             NaN  \n37      Castle Hill             NaN             NaN  \n40       Haddington             NaN             NaN  \n...             ...             ...             ...  \n3163     Haddington             NaN             NaN  \n3169  Gallows Green             NaN             NaN  \n3170  Gallows Green             NaN             NaN  \n3171  Gallows Green             NaN             NaN  \n3193    Castle Hill          farmer  English people  \n\n[257 rows x 12 columns]",
      "text/html": "<div>\n<style scoped>\n    .dataframe tbody tr th:only-of-type {\n        vertical-align: middle;\n    }\n\n    .dataframe tbody tr th {\n        vertical-align: top;\n    }\n\n    .dataframe thead th {\n        text-align: right;\n    }\n</style>\n<table border=\"1\" class=\"dataframe\">\n  <thead>\n    <tr style=\"text-align: right;\">\n      <th></th>\n      <th>item</th>\n      <th>witch</th>\n      <th>coordinate</th>\n      <th>itemLabel</th>\n      <th>residenceLabel</th>\n      <th>genderLabel</th>\n      <th>detainLabel</th>\n      <th>classLabel</th>\n      <th>mdeathLabel</th>\n      <th>deathlocLabel</th>\n      <th>occupationLabel</th>\n      <th>ethnicLabel</th>\n    </tr>\n  </thead>\n  <tbody>\n    <tr>\n      <th>2</th>\n      <td>http://www.wikidata.org/entity/Q43390997</td>\n      <td>A/EGD/391</td>\n      <td>Point(-3.14673 55.9416)</td>\n      <td>Isobel Ramsay</td>\n      <td>Duddingston</td>\n      <td>female</td>\n      <td>NaN</td>\n      <td>NaN</td>\n      <td>capital punishment</td>\n      <td>NaN</td>\n      <td>NaN</td>\n      <td>NaN</td>\n    </tr>\n    <tr>\n      <th>14</th>\n      <td>http://www.wikidata.org/entity/Q43391292</td>\n      <td>A/EGD/598</td>\n      <td>Point(-3.6293 56.0554)</td>\n      <td>Katherine Sands</td>\n      <td>Culross</td>\n      <td>female</td>\n      <td>Culross</td>\n      <td>NaN</td>\n      <td>capital punishment</td>\n      <td>Gallow Lea</td>\n      <td>NaN</td>\n      <td>NaN</td>\n    </tr>\n    <tr>\n      <th>32</th>\n      <td>http://www.wikidata.org/entity/Q43394946</td>\n      <td>A/EGD/377</td>\n      <td>Point(-3.13083 55.905)</td>\n      <td>Elspett Blackie</td>\n      <td>Gilmerton</td>\n      <td>female</td>\n      <td>NaN</td>\n      <td>NaN</td>\n      <td>capital punishment</td>\n      <td>Gilmerton</td>\n      <td>NaN</td>\n      <td>NaN</td>\n    </tr>\n    <tr>\n      <th>37</th>\n      <td>http://www.wikidata.org/entity/Q43395018</td>\n      <td>A/EGD/46</td>\n      <td>Point(-3.13083 55.905)</td>\n      <td>Meg Dow</td>\n      <td>Gilmerton</td>\n      <td>female</td>\n      <td>NaN</td>\n      <td>NaN</td>\n      <td>capital punishment</td>\n      <td>Castle Hill</td>\n      <td>NaN</td>\n      <td>NaN</td>\n    </tr>\n    <tr>\n      <th>40</th>\n      <td>http://www.wikidata.org/entity/Q43395045</td>\n      <td>A/EGD/51</td>\n      <td>Point(-2.961 55.9597)</td>\n      <td>Johne McGill (McGillis)</td>\n      <td>Prestonpans</td>\n      <td>male</td>\n      <td>NaN</td>\n      <td>NaN</td>\n      <td>capital punishment</td>\n      <td>Haddington</td>\n      <td>NaN</td>\n      <td>NaN</td>\n    </tr>\n    <tr>\n      <th>...</th>\n      <td>...</td>\n      <td>...</td>\n      <td>...</td>\n      <td>...</td>\n      <td>...</td>\n      <td>...</td>\n      <td>...</td>\n      <td>...</td>\n      <td>...</td>\n      <td>...</td>\n      <td>...</td>\n      <td>...</td>\n    </tr>\n    <tr>\n      <th>3163</th>\n      <td>http://www.wikidata.org/entity/Q43395326</td>\n      <td>A/EGD/90</td>\n      <td>Point(-2.78332 55.95612)</td>\n      <td>Meg Dun</td>\n      <td>Haddington</td>\n      <td>female</td>\n      <td>NaN</td>\n      <td>NaN</td>\n      <td>capital punishment</td>\n      <td>Haddington</td>\n      <td>NaN</td>\n      <td>NaN</td>\n    </tr>\n    <tr>\n      <th>3169</th>\n      <td>http://www.wikidata.org/entity/Q43393935</td>\n      <td>A/EGD/1764</td>\n      <td>Point(-4.545491 55.902521)</td>\n      <td>John Lindsay</td>\n      <td>Formakin</td>\n      <td>male</td>\n      <td>Glasgow</td>\n      <td>NaN</td>\n      <td>capital punishment</td>\n      <td>Gallows Green</td>\n      <td>NaN</td>\n      <td>NaN</td>\n    </tr>\n    <tr>\n      <th>3170</th>\n      <td>http://www.wikidata.org/entity/Q43393935</td>\n      <td>A/EGD/1764</td>\n      <td>Point(-4.545491 55.902521)</td>\n      <td>John Lindsay</td>\n      <td>Formakin</td>\n      <td>male</td>\n      <td>Paisley</td>\n      <td>NaN</td>\n      <td>capital punishment</td>\n      <td>Gallows Green</td>\n      <td>NaN</td>\n      <td>NaN</td>\n    </tr>\n    <tr>\n      <th>3171</th>\n      <td>http://www.wikidata.org/entity/Q43393935</td>\n      <td>A/EGD/1764</td>\n      <td>Point(-4.545491 55.902521)</td>\n      <td>John Lindsay</td>\n      <td>Formakin</td>\n      <td>male</td>\n      <td>Renfrew</td>\n      <td>NaN</td>\n      <td>capital punishment</td>\n      <td>Gallows Green</td>\n      <td>NaN</td>\n      <td>NaN</td>\n    </tr>\n    <tr>\n      <th>3193</th>\n      <td>http://www.wikidata.org/entity/Q43402734</td>\n      <td>A/EGD/158</td>\n      <td>Point(-2.011416666 55.764972222)</td>\n      <td>Jon Neill</td>\n      <td>Tweedmouth</td>\n      <td>male</td>\n      <td>Edinburgh</td>\n      <td>middling</td>\n      <td>capital punishment</td>\n      <td>Castle Hill</td>\n      <td>farmer</td>\n      <td>English people</td>\n    </tr>\n  </tbody>\n</table>\n<p>257 rows × 12 columns</p>\n</div>"
     },
     "execution_count": 17,
     "metadata": {},
     "output_type": "execute_result"
    }
   ],
   "source": [
    "df[df['mdeathLabel'].notnull()]"
   ],
   "metadata": {
    "collapsed": false,
    "ExecuteTime": {
     "end_time": "2023-11-02T12:31:34.214207200Z",
     "start_time": "2023-11-02T12:31:34.156262400Z"
    }
   },
   "id": "1d47be888cf512b5"
  },
  {
   "cell_type": "code",
   "execution_count": 15,
   "outputs": [
    {
     "data": {
      "text/plain": "0                  Culross\n12                  Forfar\n13           Kirkcudbright\n20       Ross and Cromarty\n23               Kirkcaldy\n               ...        \n2753    Berwick-upon-Tweed\n2853            Mid Calder\n2922              Galloway\n2923          New Galloway\n3069        Orkney Islands\nName: detainLabel, Length: 96, dtype: object"
     },
     "execution_count": 15,
     "metadata": {},
     "output_type": "execute_result"
    }
   ],
   "source": [
    "df[df['detainLabel'].notnull()]['detainLabel'].drop_duplicates()"
   ],
   "metadata": {
    "collapsed": false,
    "ExecuteTime": {
     "end_time": "2023-11-02T12:26:59.044036100Z",
     "start_time": "2023-11-02T12:26:58.970041Z"
    }
   },
   "id": "411893e6e6a72bd9"
  },
  {
   "cell_type": "code",
   "execution_count": 6,
   "outputs": [
    {
     "data": {
      "text/plain": "                                         item      witch  \\\n620  http://www.wikidata.org/entity/Q43392555  A/EGD/102   \n\n                           coordinate            itemLabel residenceLabel  \\\n620  Point(-3.189166666 55.953333333)  Niniane Chirneyside      Edinburgh   \n\n    genderLabel detainLabel classLabel mdeathLabel deathlocLabel  \\\n620        male         NaN   middling         NaN           NaN   \n\n    occupationLabel ethnicLabel  \n620         servant         NaN  ",
      "text/html": "<div>\n<style scoped>\n    .dataframe tbody tr th:only-of-type {\n        vertical-align: middle;\n    }\n\n    .dataframe tbody tr th {\n        vertical-align: top;\n    }\n\n    .dataframe thead th {\n        text-align: right;\n    }\n</style>\n<table border=\"1\" class=\"dataframe\">\n  <thead>\n    <tr style=\"text-align: right;\">\n      <th></th>\n      <th>item</th>\n      <th>witch</th>\n      <th>coordinate</th>\n      <th>itemLabel</th>\n      <th>residenceLabel</th>\n      <th>genderLabel</th>\n      <th>detainLabel</th>\n      <th>classLabel</th>\n      <th>mdeathLabel</th>\n      <th>deathlocLabel</th>\n      <th>occupationLabel</th>\n      <th>ethnicLabel</th>\n    </tr>\n  </thead>\n  <tbody>\n    <tr>\n      <th>620</th>\n      <td>http://www.wikidata.org/entity/Q43392555</td>\n      <td>A/EGD/102</td>\n      <td>Point(-3.189166666 55.953333333)</td>\n      <td>Niniane Chirneyside</td>\n      <td>Edinburgh</td>\n      <td>male</td>\n      <td>NaN</td>\n      <td>middling</td>\n      <td>NaN</td>\n      <td>NaN</td>\n      <td>servant</td>\n      <td>NaN</td>\n    </tr>\n  </tbody>\n</table>\n</div>"
     },
     "execution_count": 6,
     "metadata": {},
     "output_type": "execute_result"
    }
   ],
   "source": [
    "df[df['itemLabel']=='Niniane Chirneyside']"
   ],
   "metadata": {
    "collapsed": false,
    "ExecuteTime": {
     "end_time": "2023-11-02T11:06:22.644735200Z",
     "start_time": "2023-11-02T11:06:22.595009500Z"
    }
   },
   "id": "125a3edbfec89886"
  }
 ],
 "metadata": {
  "kernelspec": {
   "display_name": "Python 3",
   "language": "python",
   "name": "python3"
  },
  "language_info": {
   "codemirror_mode": {
    "name": "ipython",
    "version": 2
   },
   "file_extension": ".py",
   "mimetype": "text/x-python",
   "name": "python",
   "nbconvert_exporter": "python",
   "pygments_lexer": "ipython2",
   "version": "2.7.6"
  }
 },
 "nbformat": 4,
 "nbformat_minor": 5
}
